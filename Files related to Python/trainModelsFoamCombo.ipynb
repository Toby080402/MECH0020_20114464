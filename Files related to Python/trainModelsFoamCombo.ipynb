{
 "cells": [
  {
   "cell_type": "markdown",
   "source": [
    "# Train Models"
   ],
   "metadata": {
    "collapsed": false
   }
  },
  {
   "cell_type": "markdown",
   "source": [
    "## Preprocessing"
   ],
   "metadata": {
    "collapsed": false
   }
  },
  {
   "cell_type": "code",
   "execution_count": 28,
   "outputs": [],
   "source": [
    "import pandas as pd\n",
    "import numpy as np\n",
    "import joblib\n",
    "import seaborn as sns\n",
    "import matplotlib.pyplot as plt\n",
    "import tensorflow as tf\n",
    "\n",
    "\n",
    "from sklearn.model_selection import train_test_split, GridSearchCV\n",
    "from sklearn.metrics import accuracy_score\n",
    "from sklearn.metrics import classification_report\n",
    "from sklearn.metrics import confusion_matrix\n",
    "from sklearn.preprocessing import LabelEncoder\n",
    "from sklearn.preprocessing import MinMaxScaler\n",
    "from sklearn.preprocessing import StandardScaler\n",
    "from sklearn.svm import SVC\n",
    "from sklearn.ensemble import RandomForestClassifier\n",
    "from sklearn.neighbors import KNeighborsClassifier\n",
    "\n",
    "from xgboost import XGBClassifier\n",
    "\n",
    "from keras.models import Sequential\n",
    "from keras.layers import Dense, Dropout\n",
    "from keras.optimizers import Adam\n",
    "\n",
    "RANDOM_STATE = 80402"
   ],
   "metadata": {
    "collapsed": false,
    "ExecuteTime": {
     "start_time": "2023-04-27T23:45:05.742362Z",
     "end_time": "2023-04-27T23:45:08.794475Z"
    }
   }
  },
  {
   "cell_type": "markdown",
   "source": [
    "Import data"
   ],
   "metadata": {
    "collapsed": false
   }
  },
  {
   "cell_type": "code",
   "execution_count": 29,
   "outputs": [
    {
     "data": {
      "text/plain": "       symbol       0       1       2       3       4\n0    baseline  1.4510  1.1812  2.1024  1.3768  0.7172\n1    baseline  1.4562  1.1428  2.1040  1.3484  0.6424\n2    baseline  1.4564  1.1650  2.0882  1.3682  0.6278\n3    baseline  1.4828  1.1656  2.0942  1.3914  0.6402\n4    baseline  1.4672  1.1542  2.0810  1.4106  0.6502\n..        ...     ...     ...     ...     ...     ...\n295      Kaaf  1.6978  1.1482  1.9590  1.6752  1.8468\n296      Kaaf  1.7166  1.2268  1.9586  1.7022  1.9262\n297      Kaaf  1.7200  1.2244  1.9614  1.7106  1.7530\n298      Kaaf  1.7142  1.2330  1.9644  1.7172  1.8290\n299      Kaaf  1.7222  1.1460  1.9450  1.7170  1.7256\n\n[300 rows x 6 columns]",
      "text/html": "<div>\n<style scoped>\n    .dataframe tbody tr th:only-of-type {\n        vertical-align: middle;\n    }\n\n    .dataframe tbody tr th {\n        vertical-align: top;\n    }\n\n    .dataframe thead th {\n        text-align: right;\n    }\n</style>\n<table border=\"1\" class=\"dataframe\">\n  <thead>\n    <tr style=\"text-align: right;\">\n      <th></th>\n      <th>symbol</th>\n      <th>0</th>\n      <th>1</th>\n      <th>2</th>\n      <th>3</th>\n      <th>4</th>\n    </tr>\n  </thead>\n  <tbody>\n    <tr>\n      <th>0</th>\n      <td>baseline</td>\n      <td>1.4510</td>\n      <td>1.1812</td>\n      <td>2.1024</td>\n      <td>1.3768</td>\n      <td>0.7172</td>\n    </tr>\n    <tr>\n      <th>1</th>\n      <td>baseline</td>\n      <td>1.4562</td>\n      <td>1.1428</td>\n      <td>2.1040</td>\n      <td>1.3484</td>\n      <td>0.6424</td>\n    </tr>\n    <tr>\n      <th>2</th>\n      <td>baseline</td>\n      <td>1.4564</td>\n      <td>1.1650</td>\n      <td>2.0882</td>\n      <td>1.3682</td>\n      <td>0.6278</td>\n    </tr>\n    <tr>\n      <th>3</th>\n      <td>baseline</td>\n      <td>1.4828</td>\n      <td>1.1656</td>\n      <td>2.0942</td>\n      <td>1.3914</td>\n      <td>0.6402</td>\n    </tr>\n    <tr>\n      <th>4</th>\n      <td>baseline</td>\n      <td>1.4672</td>\n      <td>1.1542</td>\n      <td>2.0810</td>\n      <td>1.4106</td>\n      <td>0.6502</td>\n    </tr>\n    <tr>\n      <th>...</th>\n      <td>...</td>\n      <td>...</td>\n      <td>...</td>\n      <td>...</td>\n      <td>...</td>\n      <td>...</td>\n    </tr>\n    <tr>\n      <th>295</th>\n      <td>Kaaf</td>\n      <td>1.6978</td>\n      <td>1.1482</td>\n      <td>1.9590</td>\n      <td>1.6752</td>\n      <td>1.8468</td>\n    </tr>\n    <tr>\n      <th>296</th>\n      <td>Kaaf</td>\n      <td>1.7166</td>\n      <td>1.2268</td>\n      <td>1.9586</td>\n      <td>1.7022</td>\n      <td>1.9262</td>\n    </tr>\n    <tr>\n      <th>297</th>\n      <td>Kaaf</td>\n      <td>1.7200</td>\n      <td>1.2244</td>\n      <td>1.9614</td>\n      <td>1.7106</td>\n      <td>1.7530</td>\n    </tr>\n    <tr>\n      <th>298</th>\n      <td>Kaaf</td>\n      <td>1.7142</td>\n      <td>1.2330</td>\n      <td>1.9644</td>\n      <td>1.7172</td>\n      <td>1.8290</td>\n    </tr>\n    <tr>\n      <th>299</th>\n      <td>Kaaf</td>\n      <td>1.7222</td>\n      <td>1.1460</td>\n      <td>1.9450</td>\n      <td>1.7170</td>\n      <td>1.7256</td>\n    </tr>\n  </tbody>\n</table>\n<p>300 rows × 6 columns</p>\n</div>"
     },
     "execution_count": 29,
     "metadata": {},
     "output_type": "execute_result"
    }
   ],
   "source": [
    "# read in the data\n",
    "data = pd.read_csv(\"data/FoamCombo.csv\")\n",
    "\n",
    "# drop any rows with missing data\n",
    "data.dropna(inplace=True)\n",
    "\n",
    "# extract the features (Voltages) and target (Symbol)\n",
    "X = data.iloc[:, 1:].values\n",
    "y = data[\"symbol\"].values\n",
    "\n",
    "data"
   ],
   "metadata": {
    "collapsed": false,
    "ExecuteTime": {
     "start_time": "2023-04-27T23:45:05.882801Z",
     "end_time": "2023-04-27T23:45:09.583018Z"
    }
   }
  },
  {
   "cell_type": "markdown",
   "source": [
    "Replace string values in y (Symbols) as integers by using one hot encoders"
   ],
   "metadata": {
    "collapsed": false
   }
  },
  {
   "cell_type": "code",
   "execution_count": 30,
   "outputs": [
    {
     "data": {
      "text/plain": "     symbol       0       1       2       3       4\n0        29  1.4510  1.1812  2.1024  1.3768  0.7172\n1        29  1.4562  1.1428  2.1040  1.3484  0.6424\n2        29  1.4564  1.1650  2.0882  1.3682  0.6278\n3        29  1.4828  1.1656  2.0942  1.3914  0.6402\n4        29  1.4672  1.1542  2.0810  1.4106  0.6502\n..      ...     ...     ...     ...     ...     ...\n295      16  1.6978  1.1482  1.9590  1.6752  1.8468\n296      16  1.7166  1.2268  1.9586  1.7022  1.9262\n297      16  1.7200  1.2244  1.9614  1.7106  1.7530\n298      16  1.7142  1.2330  1.9644  1.7172  1.8290\n299      16  1.7222  1.1460  1.9450  1.7170  1.7256\n\n[300 rows x 6 columns]",
      "text/html": "<div>\n<style scoped>\n    .dataframe tbody tr th:only-of-type {\n        vertical-align: middle;\n    }\n\n    .dataframe tbody tr th {\n        vertical-align: top;\n    }\n\n    .dataframe thead th {\n        text-align: right;\n    }\n</style>\n<table border=\"1\" class=\"dataframe\">\n  <thead>\n    <tr style=\"text-align: right;\">\n      <th></th>\n      <th>symbol</th>\n      <th>0</th>\n      <th>1</th>\n      <th>2</th>\n      <th>3</th>\n      <th>4</th>\n    </tr>\n  </thead>\n  <tbody>\n    <tr>\n      <th>0</th>\n      <td>29</td>\n      <td>1.4510</td>\n      <td>1.1812</td>\n      <td>2.1024</td>\n      <td>1.3768</td>\n      <td>0.7172</td>\n    </tr>\n    <tr>\n      <th>1</th>\n      <td>29</td>\n      <td>1.4562</td>\n      <td>1.1428</td>\n      <td>2.1040</td>\n      <td>1.3484</td>\n      <td>0.6424</td>\n    </tr>\n    <tr>\n      <th>2</th>\n      <td>29</td>\n      <td>1.4564</td>\n      <td>1.1650</td>\n      <td>2.0882</td>\n      <td>1.3682</td>\n      <td>0.6278</td>\n    </tr>\n    <tr>\n      <th>3</th>\n      <td>29</td>\n      <td>1.4828</td>\n      <td>1.1656</td>\n      <td>2.0942</td>\n      <td>1.3914</td>\n      <td>0.6402</td>\n    </tr>\n    <tr>\n      <th>4</th>\n      <td>29</td>\n      <td>1.4672</td>\n      <td>1.1542</td>\n      <td>2.0810</td>\n      <td>1.4106</td>\n      <td>0.6502</td>\n    </tr>\n    <tr>\n      <th>...</th>\n      <td>...</td>\n      <td>...</td>\n      <td>...</td>\n      <td>...</td>\n      <td>...</td>\n      <td>...</td>\n    </tr>\n    <tr>\n      <th>295</th>\n      <td>16</td>\n      <td>1.6978</td>\n      <td>1.1482</td>\n      <td>1.9590</td>\n      <td>1.6752</td>\n      <td>1.8468</td>\n    </tr>\n    <tr>\n      <th>296</th>\n      <td>16</td>\n      <td>1.7166</td>\n      <td>1.2268</td>\n      <td>1.9586</td>\n      <td>1.7022</td>\n      <td>1.9262</td>\n    </tr>\n    <tr>\n      <th>297</th>\n      <td>16</td>\n      <td>1.7200</td>\n      <td>1.2244</td>\n      <td>1.9614</td>\n      <td>1.7106</td>\n      <td>1.7530</td>\n    </tr>\n    <tr>\n      <th>298</th>\n      <td>16</td>\n      <td>1.7142</td>\n      <td>1.2330</td>\n      <td>1.9644</td>\n      <td>1.7172</td>\n      <td>1.8290</td>\n    </tr>\n    <tr>\n      <th>299</th>\n      <td>16</td>\n      <td>1.7222</td>\n      <td>1.1460</td>\n      <td>1.9450</td>\n      <td>1.7170</td>\n      <td>1.7256</td>\n    </tr>\n  </tbody>\n</table>\n<p>300 rows × 6 columns</p>\n</div>"
     },
     "execution_count": 30,
     "metadata": {},
     "output_type": "execute_result"
    }
   ],
   "source": [
    "# one hot encode the symbol labels as integers\n",
    "label_encoder = LabelEncoder()\n",
    "y = label_encoder.fit_transform(y)\n",
    "\n",
    "# save the label encoder to a file for later use\n",
    "joblib.dump(label_encoder, 'models/FoamAmV2/label_encoder.joblib')\n",
    "\n",
    "data[\"symbol\"] = y\n",
    "data\n"
   ],
   "metadata": {
    "collapsed": false,
    "ExecuteTime": {
     "start_time": "2023-04-27T23:45:06.341506Z",
     "end_time": "2023-04-27T23:45:09.693791Z"
    }
   }
  },
  {
   "cell_type": "markdown",
   "source": [
    "### Normalise Data"
   ],
   "metadata": {
    "collapsed": false
   }
  },
  {
   "cell_type": "code",
   "execution_count": 31,
   "outputs": [
    {
     "data": {
      "text/plain": "     symbol         0         1         2         3         4\n0        29  0.029631  0.052350  0.136487  0.014185  0.045445\n1        29  0.033282  0.040928  0.137238  0.004114  0.007422\n2        29  0.033422  0.047531  0.129823  0.011136  0.000000\n3        29  0.051959  0.047710  0.132639  0.019363  0.006303\n4        29  0.041005  0.044319  0.126443  0.026172  0.011387\n..      ...       ...       ...       ...       ...       ...\n295      16  0.202921  0.042534  0.069182  0.120009  0.619662\n296      16  0.216121  0.065913  0.068995  0.129584  0.660024\n297      16  0.218509  0.065199  0.070309  0.132563  0.571980\n298      16  0.214436  0.067757  0.071717  0.134903  0.610614\n299      16  0.220053  0.041880  0.062611  0.134832  0.558052\n\n[300 rows x 6 columns]",
      "text/html": "<div>\n<style scoped>\n    .dataframe tbody tr th:only-of-type {\n        vertical-align: middle;\n    }\n\n    .dataframe tbody tr th {\n        vertical-align: top;\n    }\n\n    .dataframe thead th {\n        text-align: right;\n    }\n</style>\n<table border=\"1\" class=\"dataframe\">\n  <thead>\n    <tr style=\"text-align: right;\">\n      <th></th>\n      <th>symbol</th>\n      <th>0</th>\n      <th>1</th>\n      <th>2</th>\n      <th>3</th>\n      <th>4</th>\n    </tr>\n  </thead>\n  <tbody>\n    <tr>\n      <th>0</th>\n      <td>29</td>\n      <td>0.029631</td>\n      <td>0.052350</td>\n      <td>0.136487</td>\n      <td>0.014185</td>\n      <td>0.045445</td>\n    </tr>\n    <tr>\n      <th>1</th>\n      <td>29</td>\n      <td>0.033282</td>\n      <td>0.040928</td>\n      <td>0.137238</td>\n      <td>0.004114</td>\n      <td>0.007422</td>\n    </tr>\n    <tr>\n      <th>2</th>\n      <td>29</td>\n      <td>0.033422</td>\n      <td>0.047531</td>\n      <td>0.129823</td>\n      <td>0.011136</td>\n      <td>0.000000</td>\n    </tr>\n    <tr>\n      <th>3</th>\n      <td>29</td>\n      <td>0.051959</td>\n      <td>0.047710</td>\n      <td>0.132639</td>\n      <td>0.019363</td>\n      <td>0.006303</td>\n    </tr>\n    <tr>\n      <th>4</th>\n      <td>29</td>\n      <td>0.041005</td>\n      <td>0.044319</td>\n      <td>0.126443</td>\n      <td>0.026172</td>\n      <td>0.011387</td>\n    </tr>\n    <tr>\n      <th>...</th>\n      <td>...</td>\n      <td>...</td>\n      <td>...</td>\n      <td>...</td>\n      <td>...</td>\n      <td>...</td>\n    </tr>\n    <tr>\n      <th>295</th>\n      <td>16</td>\n      <td>0.202921</td>\n      <td>0.042534</td>\n      <td>0.069182</td>\n      <td>0.120009</td>\n      <td>0.619662</td>\n    </tr>\n    <tr>\n      <th>296</th>\n      <td>16</td>\n      <td>0.216121</td>\n      <td>0.065913</td>\n      <td>0.068995</td>\n      <td>0.129584</td>\n      <td>0.660024</td>\n    </tr>\n    <tr>\n      <th>297</th>\n      <td>16</td>\n      <td>0.218509</td>\n      <td>0.065199</td>\n      <td>0.070309</td>\n      <td>0.132563</td>\n      <td>0.571980</td>\n    </tr>\n    <tr>\n      <th>298</th>\n      <td>16</td>\n      <td>0.214436</td>\n      <td>0.067757</td>\n      <td>0.071717</td>\n      <td>0.134903</td>\n      <td>0.610614</td>\n    </tr>\n    <tr>\n      <th>299</th>\n      <td>16</td>\n      <td>0.220053</td>\n      <td>0.041880</td>\n      <td>0.062611</td>\n      <td>0.134832</td>\n      <td>0.558052</td>\n    </tr>\n  </tbody>\n</table>\n<p>300 rows × 6 columns</p>\n</div>"
     },
     "execution_count": 31,
     "metadata": {},
     "output_type": "execute_result"
    }
   ],
   "source": [
    "scaler=MinMaxScaler()\n",
    "X = pd.DataFrame(scaler.fit_transform(X))\n",
    "\n",
    "data[\"0\"]=X.iloc[:, 0]\n",
    "data[\"1\"]=X.iloc[:, 1]\n",
    "data[\"2\"]=X.iloc[:, 2]\n",
    "data[\"3\"]=X.iloc[:, 3]\n",
    "data[\"4\"]=X.iloc[:, 4]\n",
    "data[\"symbol\"]=y\n",
    "#data.to_csv('data/Normalised/foamCombo.csv', index=False)\n",
    "data"
   ],
   "metadata": {
    "collapsed": false,
    "ExecuteTime": {
     "start_time": "2023-04-27T23:45:06.558821Z",
     "end_time": "2023-04-27T23:45:09.857142Z"
    }
   }
  },
  {
   "cell_type": "markdown",
   "source": [
    "### Test Standardising the data"
   ],
   "metadata": {
    "collapsed": false
   }
  },
  {
   "cell_type": "code",
   "execution_count": 32,
   "outputs": [
    {
     "data": {
      "text/plain": "array([[3.49685118e-02, 5.23497918e-02, 2.10413476e-01, 1.41854032e-02,\n        5.03095104e-02],\n       [3.92774279e-02, 4.09280190e-02, 2.11638591e-01, 4.11376693e-03,\n        8.21609454e-03],\n       [3.94431555e-02, 4.75312314e-02, 1.99540582e-01, 1.11355415e-02,\n        0.00000000e+00],\n       [6.13191912e-02, 4.77096966e-02, 2.04134763e-01, 1.93630754e-02,\n        6.97805290e-03],\n       [4.83924428e-02, 4.43188578e-02, 1.94027565e-01, 2.61720689e-02,\n        1.26055149e-02],\n       [6.74511104e-02, 5.43723974e-02, 2.26493109e-01, 2.92928576e-02,\n        1.81204277e-02],\n       [6.64567451e-02, 5.49077930e-02, 2.16539051e-01, 3.68111214e-02,\n        2.29600450e-02],\n       [6.26450116e-02, 3.24211779e-02, 2.03062787e-01, 1.09227605e-02,\n        9.67923467e-03],\n       [1.08551541e-01, 4.56276026e-02, 2.29862175e-01, 2.84417335e-02,\n        1.26055149e-02],\n       [6.31421942e-02, 4.74122546e-02, 2.02756508e-01, 2.38314774e-02,\n        9.34158694e-03],\n       [8.65926417e-01, 9.93753718e-01, 8.06431853e-01, 1.15752890e-01,\n        6.99718627e-01],\n       [7.56877693e-01, 1.00000000e+00, 8.66768760e-01, 7.36931697e-02,\n        1.00000000e+00],\n       [9.77129599e-01, 9.58477097e-01, 8.84226646e-01, 9.07156536e-02,\n        8.21609454e-01],\n       [9.56247928e-01, 9.09577632e-01, 6.84839204e-01, 7.34803887e-02,\n        8.19471019e-01],\n       [9.05369572e-01, 8.55026770e-01, 7.27565084e-01, 1.00787290e-01,\n        7.88407428e-01],\n       [8.65760689e-01, 8.78346222e-01, 7.40735069e-01, 1.04120860e-01,\n        7.38660664e-01],\n       [8.55982764e-01, 8.53837002e-01, 7.80398162e-01, 1.18022555e-01,\n        8.69330332e-01],\n       [9.25919788e-01, 8.54967281e-01, 7.90964778e-01, 1.18448117e-01,\n        7.67585819e-01],\n       [9.59728207e-01, 8.44080904e-01, 7.73506891e-01, 1.13625080e-01,\n        6.53798537e-01],\n       [9.20782234e-01, 8.64842356e-01, 7.45635528e-01, 1.31711469e-01,\n        6.34327518e-01],\n       [8.76698707e-01, 7.48602023e-01, 2.49464012e-01, 1.05894035e-01,\n        5.10635903e-01],\n       [9.62048392e-01, 7.47174301e-01, 2.95405819e-01, 1.16036598e-01,\n        5.78277997e-01],\n       [9.11004309e-01, 7.83164783e-01, 2.92036753e-01, 1.11497269e-01,\n        6.13505909e-01],\n       [1.00000000e+00, 8.03331350e-01, 3.08575804e-01, 1.18093482e-01,\n        5.75689364e-01],\n       [9.69008949e-01, 7.68352171e-01, 2.08422665e-01, 1.12490248e-01,\n        4.27574564e-01],\n       [9.81604243e-01, 7.68768590e-01, 3.05513017e-01, 1.30222002e-01,\n        6.13731007e-01],\n       [9.54259198e-01, 7.64842356e-01, 2.97243492e-01, 1.22561884e-01,\n        6.64828362e-01],\n       [9.45475638e-01, 7.31945271e-01, 3.28330781e-01, 7.90126959e-02,\n        4.12605515e-01],\n       [9.51441830e-01, 7.32837597e-01, 3.15773354e-01, 8.71693028e-02,\n        3.88519977e-01],\n       [9.92542261e-01, 7.37775134e-01, 3.15926493e-01, 9.07865806e-02,\n        4.05852560e-01],\n       [6.80145840e-01, 6.48185604e-01, 2.43644717e-01, 9.61061068e-02,\n        1.41361846e-01],\n       [5.38945973e-01, 6.98572278e-01, 2.04134763e-01, 8.25590467e-02,\n        1.56105796e-01],\n       [4.69671859e-01, 6.71029149e-01, 1.86983155e-01, 9.98652387e-02,\n        1.52391671e-01],\n       [4.61385482e-01, 6.86853064e-01, 2.01225115e-01, 1.01354706e-01,\n        1.52279122e-01],\n       [5.62313557e-01, 7.04521118e-01, 1.94946401e-01, 1.08305554e-01,\n        1.57906584e-01],\n       [4.92045078e-01, 8.51695419e-01, 2.69065850e-01, 9.84466983e-02,\n        1.55993247e-01],\n       [4.82764335e-01, 8.48542534e-01, 2.67840735e-01, 9.97233846e-02,\n        1.55430501e-01],\n       [4.76135234e-01, 8.19750149e-01, 2.42113323e-01, 1.06461451e-01,\n        1.46201463e-01],\n       [3.67417965e-01, 8.53718025e-01, 2.15926493e-01, 0.00000000e+00,\n        1.47101857e-01],\n       [3.97414650e-01, 8.70969661e-01, 2.67687596e-01, 2.71650472e-02,\n        1.49352842e-01],\n       [2.80742459e-01, 1.08506841e-01, 3.92189893e-01, 7.31966806e-02,\n        6.95216657e-01],\n       [2.90023202e-01, 1.05056514e-01, 3.67534456e-01, 8.15660685e-02,\n        6.39392234e-01],\n       [1.72356646e-01, 1.16537775e-01, 2.94640123e-01, 4.85850060e-02,\n        5.63759145e-01],\n       [1.27278754e-01, 1.24866151e-01, 2.32465544e-01, 5.90112774e-02,\n        5.37422622e-01],\n       [1.47828969e-01, 1.17132659e-01, 2.83154671e-01, 6.46854387e-02,\n        4.57287563e-01],\n       [1.92906861e-01, 1.26888757e-01, 2.67228178e-01, 7.85871338e-02,\n        4.18908272e-01],\n       [1.90586676e-01, 1.07733492e-01, 2.78866769e-01, 6.11390879e-02,\n        4.85087226e-01],\n       [1.66058999e-01, 1.16894706e-01, 3.74425727e-01, 5.99333286e-02,\n        7.02194710e-01],\n       [1.42359960e-01, 1.02974420e-01, 3.44104135e-01, 4.96489113e-02,\n        4.44569499e-01],\n       [1.57441167e-01, 1.08744795e-01, 3.88208270e-01, 5.94368395e-02,\n        4.85424873e-01],\n       [4.01226384e-01, 8.62700773e-01, 5.58652374e-01, 9.06518193e-01,\n        1.55543050e-01],\n       [3.41730196e-01, 8.75788221e-01, 5.94793262e-01, 8.99283637e-01,\n        1.44513225e-01],\n       [4.12661584e-01, 8.14693635e-01, 5.58958652e-01, 8.74742890e-01,\n        1.32132808e-01],\n       [4.45144183e-01, 8.17489590e-01, 6.13782542e-01, 8.93609476e-01,\n        1.36297130e-01],\n       [4.58402386e-01, 8.10350982e-01, 5.81316998e-01, 8.68997801e-01,\n        1.19302195e-01],\n       [4.55750746e-01, 8.21475312e-01, 5.83767228e-01, 8.77367189e-01,\n        1.21553180e-01],\n       [4.53927743e-01, 8.09339679e-01, 5.64471669e-01, 8.97723243e-01,\n        1.04445695e-01],\n       [4.59065297e-01, 8.06067817e-01, 6.20520674e-01, 9.06376339e-01,\n        1.11423748e-01],\n       [5.30825323e-01, 8.07614515e-01, 6.10107198e-01, 8.81410029e-01,\n        1.20090039e-01],\n       [5.09777925e-01, 8.24271267e-01, 6.27565084e-01, 8.82828569e-01,\n        1.30669668e-01],\n       [7.87205834e-02, 2.35574063e-02, 1.45022971e-01, 2.29094262e-01,\n        5.77152504e-01],\n       [1.02916805e-01, 2.51635931e-02, 1.57733538e-01, 2.66047237e-01,\n        5.46989308e-01],\n       [1.11866092e-01, 2.80785247e-02, 1.89433384e-01, 3.79672317e-01,\n        5.59594823e-01],\n       [1.24129930e-01, 3.11124331e-02, 2.08882083e-01, 3.87403362e-01,\n        5.68261114e-01],\n       [1.34073583e-01, 3.01011303e-02, 2.19142420e-01, 3.93006596e-01,\n        5.63646595e-01],\n       [1.29598939e-01, 2.95062463e-02, 2.42572741e-01, 2.87892758e-01,\n        4.42431064e-01],\n       [8.17036792e-02, 2.57584771e-02, 2.49157734e-01, 3.55769913e-01,\n        5.69611705e-01],\n       [1.63904541e-01, 3.43248067e-02, 2.74425727e-01, 3.56266402e-01,\n        4.73944851e-01],\n       [1.25787206e-01, 4.80071386e-02, 2.94946401e-01, 4.06979218e-01,\n        5.21665729e-01],\n       [1.19821014e-01, 4.62224866e-02, 3.00000000e-01, 3.44492517e-01,\n        4.55036579e-01],\n       [1.16175008e-01, 8.01546698e-01, 5.69218989e-01, 9.19355983e-01,\n        6.27912212e-01],\n       [1.40371230e-01, 6.73289709e-01, 5.63552833e-01, 9.33470459e-01,\n        6.63365222e-01],\n       [1.28438847e-01, 6.77037478e-01, 5.81163859e-01, 9.42620044e-01,\n        6.47945976e-01],\n       [1.37885317e-01, 6.77156454e-01, 6.24808576e-01, 9.33328605e-01,\n        7.00281373e-01],\n       [1.35067948e-01, 7.41046996e-01, 7.99540582e-01, 9.86878502e-01,\n        7.91333708e-01],\n       [1.17003646e-01, 7.05591910e-01, 7.41960184e-01, 9.96169941e-01,\n        7.13899831e-01],\n       [1.55452436e-01, 7.07971446e-01, 8.16998469e-01, 9.77728917e-01,\n        7.14012380e-01],\n       [1.90586676e-01, 7.76918501e-01, 8.12404288e-01, 9.69430456e-01,\n        6.12380416e-01],\n       [2.03347696e-01, 7.97025580e-01, 8.70137825e-01, 9.64749273e-01,\n        6.07653348e-01],\n       [1.56115346e-01, 7.84354551e-01, 7.48545176e-01, 9.76026669e-01,\n        6.64040518e-01],\n       [7.74444813e-01, 9.49791791e-01, 8.16539051e-01, 6.80190084e-02,\n        1.23804164e-01],\n       [8.08916142e-01, 9.25461035e-01, 8.17611026e-01, 8.64600326e-02,\n        1.32245357e-01],\n       [8.20185615e-01, 9.05532421e-01, 8.20214395e-01, 1.06887013e-01,\n        1.60832864e-01],\n       [7.99801127e-01, 9.12552052e-01, 8.18529862e-01, 9.83048443e-02,\n        1.31119865e-01],\n       [6.79151475e-01, 8.93575253e-01, 8.65849923e-01, 1.00432655e-01,\n        1.29994373e-01],\n       [7.28869738e-01, 9.09577632e-01, 8.38744257e-01, 1.06177743e-01,\n        1.45638717e-01],\n       [7.45608220e-01, 9.29446758e-01, 8.66615620e-01, 1.09936875e-01,\n        1.48902645e-01],\n       [6.27941664e-01, 9.17965497e-01, 8.27411945e-01, 1.12064685e-01,\n        1.43500281e-01],\n       [5.88167053e-01, 9.44378346e-01, 8.22052067e-01, 9.73118661e-02,\n        1.43950478e-01],\n       [5.26682135e-01, 8.50208209e-01, 8.37519142e-01, 7.71685935e-02,\n        1.43387732e-01],\n       [7.18594630e-01, 8.91969066e-01, 7.49004594e-01, 1.00000000e+00,\n        6.26674170e-01],\n       [6.77494200e-01, 9.03569304e-01, 8.87901991e-01, 9.82126392e-01,\n        5.25379854e-01],\n       [7.28206828e-01, 9.23616895e-01, 8.30781011e-01, 9.40988723e-01,\n        5.21440630e-01],\n       [7.62180974e-01, 9.06603212e-01, 9.31699847e-01, 9.52620753e-01,\n        4.47495779e-01],\n       [6.40536957e-01, 8.81737061e-01, 9.15467075e-01, 9.52266118e-01,\n        4.22172200e-01],\n       [7.24229367e-01, 9.02498513e-01, 9.80398162e-01, 9.54181148e-01,\n        4.18007878e-01],\n       [7.04342062e-01, 8.88221297e-01, 9.51914242e-01, 9.46308249e-01,\n        4.32076533e-01],\n       [7.32350017e-01, 8.95478882e-01, 1.00000000e+00, 9.37655153e-01,\n        4.24873382e-01],\n       [7.33012927e-01, 8.88578227e-01, 8.97396631e-01, 9.29924108e-01,\n        4.32189083e-01],\n       [6.41034140e-01, 8.85782272e-01, 9.09188361e-01, 9.65174835e-01,\n        4.24423185e-01],\n       [6.51972158e-01, 1.07971446e-01, 3.28483920e-01, 8.23462657e-02,\n        4.15531795e-01],\n       [7.60689427e-01, 1.06662701e-01, 3.75957121e-01, 9.14249238e-02,\n        4.71918965e-01],\n       [6.02916805e-01, 1.08566330e-01, 3.46094946e-01, 9.01482375e-02,\n        2.96342150e-01],\n       [4.94696719e-01, 9.54193932e-02, 3.49310873e-01, 1.02702319e-01,\n        2.83961733e-01],\n       [3.66755055e-01, 9.23259964e-02, 2.83001531e-01, 9.70281580e-02,\n        2.74845245e-01],\n       [3.60788863e-01, 8.92325996e-02, 3.03062787e-01, 1.10362437e-01,\n        2.72031514e-01],\n       [3.38912827e-01, 8.72694825e-02, 2.57580398e-01, 1.06957940e-01,\n        3.14237479e-01],\n       [4.54922108e-01, 8.80428316e-02, 3.07044410e-01, 1.19866657e-01,\n        3.07371975e-01],\n       [4.72323500e-01, 9.50624628e-02, 3.59111792e-01, 1.27384921e-01,\n        3.41586944e-01],\n       [4.27577063e-01, 9.97025580e-02, 3.54364472e-01, 1.27739556e-01,\n        3.39448509e-01],\n       [2.57043421e-01, 4.91255205e-01, 4.83614089e-01, 7.25015959e-01,\n        1.68261114e-01],\n       [2.62015247e-01, 5.50803093e-01, 5.77182236e-01, 8.22185971e-01,\n        1.57906584e-01],\n       [2.20417633e-01, 5.61629982e-01, 4.97090352e-01, 7.85091141e-01,\n        1.34496342e-01],\n       [2.27543918e-01, 6.18500892e-01, 5.77641654e-01, 8.43038513e-01,\n        1.35621835e-01],\n       [2.37487570e-01, 6.21058894e-01, 5.94793262e-01, 8.65238669e-01,\n        1.31007316e-01],\n       [2.00033146e-01, 6.45270672e-01, 5.79173047e-01, 8.64174764e-01,\n        1.22453573e-01],\n       [1.62412993e-01, 5.36942296e-01, 5.51148545e-01, 7.71756862e-01,\n        1.12436691e-01],\n       [1.31256215e-01, 5.28613920e-01, 4.58039816e-01, 7.63032839e-01,\n        1.01294316e-01],\n       [2.11634074e-01, 6.43664485e-01, 4.62787136e-01, 7.63174693e-01,\n        1.12886888e-01],\n       [2.08319523e-01, 4.81380131e-01, 4.66921899e-01, 6.85935173e-01,\n        1.07597074e-01],\n       [1.85449122e-01, 6.14574658e-01, 2.33996937e-01, 1.20505000e-01,\n        9.25154755e-02],\n       [1.97381505e-01, 6.77037478e-01, 4.17151608e-01, 1.15681963e-01,\n        1.15025324e-01],\n       [2.11468346e-01, 6.37715645e-01, 3.95405819e-01, 1.14192496e-01,\n        1.13899831e-01],\n       [9.23102420e-02, 5.05829863e-01, 4.29096478e-01, 1.00078020e-01,\n        1.03432752e-01],\n       [1.09545907e-01, 5.24866151e-01, 4.34303216e-01, 1.17596993e-01,\n        1.08159820e-01],\n       [1.13854823e-01, 5.37358715e-01, 3.99234303e-01, 9.56096177e-02,\n        1.06921778e-01],\n       [1.28936029e-01, 5.06127305e-01, 3.82082695e-01, 9.75955742e-02,\n        1.04895892e-01],\n       [1.50480610e-01, 5.07614515e-01, 3.53751914e-01, 1.03624371e-01,\n        1.01744513e-01],\n       [1.00265164e-01, 5.42296252e-01, 3.26646248e-01, 1.01425633e-01,\n        1.12099043e-01],\n       [1.19323832e-01, 4.81201666e-01, 3.03062787e-01, 1.13128591e-01,\n        1.01744513e-01],\n       [1.04076898e-01, 7.88697204e-01, 6.77947933e-01, 8.80913540e-02,\n        4.84974676e-01],\n       [1.17500829e-01, 8.59785842e-01, 7.87136294e-01, 8.25590467e-02,\n        3.48902645e-01],\n       [1.28770302e-01, 8.45092207e-01, 7.71822358e-01, 7.73104475e-02,\n        3.62296005e-01],\n       [1.08551541e-01, 8.33967876e-01, 7.58652374e-01, 1.02844173e-01,\n        3.66235228e-01],\n       [1.19655287e-01, 8.68352171e-01, 7.87748851e-01, 1.13057664e-01,\n        2.38041643e-01],\n       [1.21478290e-01, 8.29387269e-01, 6.06891271e-01, 9.61770338e-02,\n        3.35396736e-01],\n       [1.23964203e-01, 7.25401547e-01, 5.35222052e-01, 9.44747854e-02,\n        3.59032077e-01],\n       [1.14517733e-01, 6.59964307e-01, 4.61408882e-01, 7.22037024e-02,\n        3.43612831e-01],\n       [1.11866092e-01, 6.68828079e-01, 4.48392037e-01, 9.43329314e-02,\n        2.88351154e-01],\n       [1.21146835e-01, 6.99702558e-01, 4.93415008e-01, 9.38364423e-02,\n        3.09172763e-01],\n       [3.04938681e-02, 6.73825104e-01, 3.98162328e-03, 7.35513157e-02,\n        1.55993247e-01],\n       [1.75671197e-02, 6.82450922e-01, 3.24655436e-02, 7.87999149e-02,\n        1.84130557e-01],\n       [9.44647000e-03, 6.81558596e-01, 2.94027565e-02, 9.35527342e-02,\n        1.90658413e-01],\n       [2.80079549e-02, 6.44735277e-01, 0.00000000e+00, 8.15660685e-02,\n        1.70512099e-01],\n       [0.00000000e+00, 6.78703153e-01, 4.07350689e-02, 7.49698560e-02,\n        1.50928531e-01],\n       [1.65727544e-04, 6.54431886e-01, 2.00612557e-02, 7.86580609e-02,\n        1.43500281e-01],\n       [1.62412993e-02, 6.61570494e-01, 2.92496172e-02, 8.53252004e-02,\n        1.25042206e-01],\n       [7.62346702e-03, 6.30636526e-01, 1.99081164e-02, 8.73111568e-02,\n        1.35284187e-01],\n       [1.47497514e-02, 6.33670434e-01, 5.34456355e-02, 8.51833463e-02,\n        1.72650535e-01],\n       [2.81736825e-02, 5.89827484e-01, 3.26186830e-02, 9.64607419e-02,\n        1.66460326e-01],\n       [9.94365264e-04, 2.06424747e-02, 3.98162328e-01, 1.61713597e-02,\n        2.04501970e-01],\n       [1.70699370e-02, 1.65377751e-02, 5.66156202e-01, 5.15639407e-02,\n        1.45976365e-01],\n       [2.58534969e-02, 9.81558596e-03, 5.37978560e-01, 5.08546705e-02,\n        1.05233540e-01],\n       [2.96652304e-02, 1.99881023e-02, 5.00918836e-01, 6.32668984e-02,\n        1.23804164e-01],\n       [2.66821346e-02, 0.00000000e+00, 6.13629403e-01, 6.84445705e-02,\n        1.11761396e-01],\n       [3.08253232e-02, 1.01130280e-03, 5.29555896e-01, 6.21320661e-02,\n        8.10354530e-02],\n       [3.03281405e-02, 0.00000000e+00, 5.50229709e-01, 6.95794028e-02,\n        8.45244795e-02],\n       [3.36426914e-02, 1.35633551e-02, 4.46860643e-01, 7.39059508e-02,\n        1.07709623e-01],\n       [7.95492211e-03, 2.61748959e-03, 4.38437979e-01, 9.88722604e-02,\n        6.96679797e-02],\n       [3.04938681e-02, 9.39916716e-03, 4.66921899e-01, 9.32690262e-02,\n        6.47158132e-02]])"
     },
     "execution_count": 32,
     "metadata": {},
     "output_type": "execute_result"
    }
   ],
   "source": [
    "standata=pd.read_csv(\"data/FoamAmSL.csv\")\n",
    "sX = standata.iloc[:, 1:].values\n",
    "sX=scaler.fit_transform(sX)\n",
    "sX\n",
    "#This gives the same result so just ignore it"
   ],
   "metadata": {
    "collapsed": false,
    "ExecuteTime": {
     "start_time": "2023-04-27T23:45:06.731154Z",
     "end_time": "2023-04-27T23:45:09.908299Z"
    }
   }
  },
  {
   "cell_type": "markdown",
   "source": [
    "### Split Data\n",
    "Note, use stratify to ensure same amount of symbols in each set"
   ],
   "metadata": {
    "collapsed": false
   }
  },
  {
   "cell_type": "code",
   "execution_count": 33,
   "outputs": [],
   "source": [
    "# split the data into training, validation, and testing sets\n",
    "train, test = train_test_split(data, test_size=0.2, random_state=RANDOM_STATE, stratify=data[\"symbol\"])\n",
    "traindisregard, val = train_test_split(train, test_size=0.25, random_state=RANDOM_STATE, stratify=train[\"symbol\"])\n",
    "\n",
    "X_train, y_train = train.iloc[:, 1:].values, train[\"symbol\"].values\n",
    "X_test, y_test = test.iloc[:, 1:].values, test[\"symbol\"].values\n",
    "X_val, y_val = val.iloc[:, 1:].values, val[\"symbol\"].values"
   ],
   "metadata": {
    "collapsed": false,
    "ExecuteTime": {
     "start_time": "2023-04-27T23:45:06.994106Z",
     "end_time": "2023-04-27T23:45:09.917825Z"
    }
   }
  },
  {
   "cell_type": "markdown",
   "source": [
    "## Processing\n",
    "\n",
    "### SVM\n",
    "\n",
    "Perform grid search and evaluate on validation set"
   ],
   "metadata": {
    "collapsed": false
   }
  },
  {
   "cell_type": "code",
   "execution_count": 34,
   "outputs": [
    {
     "name": "stdout",
     "output_type": "stream",
     "text": [
      "SVM: Carrying out hyperparameter optimisation\n",
      "Best parameters: {'C': 100, 'degree': 3, 'gamma': 10, 'kernel': 'rbf'}\n",
      "Best score: 0.9791666666666666\n",
      "SVM: Validation accuracy: 1.0000\n"
     ]
    },
    {
     "data": {
      "text/plain": "Empty DataFrame\nColumns: [actual, pred]\nIndex: []",
      "text/html": "<div>\n<style scoped>\n    .dataframe tbody tr th:only-of-type {\n        vertical-align: middle;\n    }\n\n    .dataframe tbody tr th {\n        vertical-align: top;\n    }\n\n    .dataframe thead th {\n        text-align: right;\n    }\n</style>\n<table border=\"1\" class=\"dataframe\">\n  <thead>\n    <tr style=\"text-align: right;\">\n      <th></th>\n      <th>actual</th>\n      <th>pred</th>\n    </tr>\n  </thead>\n  <tbody>\n  </tbody>\n</table>\n</div>"
     },
     "execution_count": 34,
     "metadata": {},
     "output_type": "execute_result"
    }
   ],
   "source": [
    "# Change for different results\n",
    "cv = 4\n",
    "\n",
    "# define the parameter grid to search over\n",
    "param_grid = {\n",
    "    'C': [0.1, 1, 10, 100],\n",
    "    'kernel': ['linear', 'rbf', 'sigmoid', 'poly'],\n",
    "    'degree': [3],\n",
    "    'gamma': ['scale', 'auto'] + [0.1, 1, 10]\n",
    "}\n",
    "\n",
    "# create an SVM model\n",
    "svm_model = SVC()\n",
    "\n",
    "# perform grid search to find the best hyperparameters\n",
    "print(\"SVM: Carrying out hyperparameter optimisation\")\n",
    "grid_search = GridSearchCV(estimator=svm_model, param_grid=param_grid, cv=cv, n_jobs=-1)\n",
    "grid_search.fit(X_train, y_train)\n",
    "\n",
    "# use the best model found by grid search to make predictions on the validation set\n",
    "svm_best_model = grid_search.best_estimator_\n",
    "print(\"Best parameters:\", grid_search.best_params_)\n",
    "print(\"Best score:\", grid_search.best_score_)\n",
    "\n",
    "\n",
    "y_pred_val = svm_best_model.predict(X_val)\n",
    "# evaluate the best model's accuracy on the validation set\n",
    "val_accuracy = accuracy_score(y_val, y_pred_val)\n",
    "\n",
    "val_comp = pd.DataFrame({'actual': label_encoder.inverse_transform(y_val), 'pred': label_encoder.inverse_transform(y_pred_val)})\n",
    "\n",
    "print(f\"SVM: Validation accuracy: {val_accuracy:.4f}\")\n",
    "\n",
    "val_comp.query(\"actual != pred\")"
   ],
   "metadata": {
    "collapsed": false,
    "ExecuteTime": {
     "start_time": "2023-04-27T23:45:07.175878Z",
     "end_time": "2023-04-27T23:45:21.272584Z"
    }
   }
  },
  {
   "cell_type": "markdown",
   "source": [
    "Evaluate model on test set and save model"
   ],
   "metadata": {
    "collapsed": false
   }
  },
  {
   "cell_type": "code",
   "execution_count": 35,
   "outputs": [
    {
     "name": "stdout",
     "output_type": "stream",
     "text": [
      "SVM: Test accuracy: 1.0000\n",
      "SVM: Saving model to file\n"
     ]
    },
    {
     "data": {
      "text/plain": "Empty DataFrame\nColumns: [actual, pred]\nIndex: []",
      "text/html": "<div>\n<style scoped>\n    .dataframe tbody tr th:only-of-type {\n        vertical-align: middle;\n    }\n\n    .dataframe tbody tr th {\n        vertical-align: top;\n    }\n\n    .dataframe thead th {\n        text-align: right;\n    }\n</style>\n<table border=\"1\" class=\"dataframe\">\n  <thead>\n    <tr style=\"text-align: right;\">\n      <th></th>\n      <th>actual</th>\n      <th>pred</th>\n    </tr>\n  </thead>\n  <tbody>\n  </tbody>\n</table>\n</div>"
     },
     "execution_count": 35,
     "metadata": {},
     "output_type": "execute_result"
    }
   ],
   "source": [
    "# evaluate the best model's accuracy on the test set\n",
    "y_pred_test = svm_best_model.predict(X_test)\n",
    "test_accuracy = accuracy_score(y_test, y_pred_test)\n",
    "\n",
    "test_comp = pd.DataFrame({'actual': label_encoder.inverse_transform(y_test), 'pred': label_encoder.inverse_transform(y_pred_test)})\n",
    "\n",
    "print(f\"SVM: Test accuracy: {test_accuracy:.4f}\")\n",
    "\n",
    "# save the trained model to a file\n",
    "print(\"SVM: Saving model to file\")\n",
    "joblib.dump(svm_best_model, 'models/FoamCombo/svm_model.joblib')\n",
    "\n",
    "test_comp.query(\"actual != pred\")"
   ],
   "metadata": {
    "collapsed": false,
    "ExecuteTime": {
     "start_time": "2023-04-27T23:45:21.293760Z",
     "end_time": "2023-04-27T23:45:21.393144Z"
    }
   }
  },
  {
   "cell_type": "code",
   "execution_count": 36,
   "outputs": [
    {
     "name": "stdout",
     "output_type": "stream",
     "text": [
      "SVM: Evaluation\n",
      "              precision    recall  f1-score   support\n",
      "\n",
      "           0       1.00      1.00      1.00         2\n",
      "           1       1.00      1.00      1.00         2\n",
      "           2       1.00      1.00      1.00         2\n",
      "           3       1.00      1.00      1.00         2\n",
      "           4       1.00      1.00      1.00         2\n",
      "           5       1.00      1.00      1.00         2\n",
      "           6       1.00      1.00      1.00         2\n",
      "           7       1.00      1.00      1.00         2\n",
      "           8       1.00      1.00      1.00         2\n",
      "           9       1.00      1.00      1.00         2\n",
      "          10       1.00      1.00      1.00         2\n",
      "          11       1.00      1.00      1.00         2\n",
      "          12       1.00      1.00      1.00         2\n",
      "          13       1.00      1.00      1.00         2\n",
      "          14       1.00      1.00      1.00         2\n",
      "          15       1.00      1.00      1.00         2\n",
      "          16       1.00      1.00      1.00         2\n",
      "          17       1.00      1.00      1.00         2\n",
      "          18       1.00      1.00      1.00         2\n",
      "          19       1.00      1.00      1.00         2\n",
      "          20       1.00      1.00      1.00         2\n",
      "          21       1.00      1.00      1.00         2\n",
      "          22       1.00      1.00      1.00         2\n",
      "          23       1.00      1.00      1.00         2\n",
      "          24       1.00      1.00      1.00         2\n",
      "          25       1.00      1.00      1.00         2\n",
      "          26       1.00      1.00      1.00         2\n",
      "          27       1.00      1.00      1.00         2\n",
      "          28       1.00      1.00      1.00         2\n",
      "          29       1.00      1.00      1.00         2\n",
      "\n",
      "    accuracy                           1.00        60\n",
      "   macro avg       1.00      1.00      1.00        60\n",
      "weighted avg       1.00      1.00      1.00        60\n",
      "\n"
     ]
    }
   ],
   "source": [
    "print(\"SVM: Evaluation\")\n",
    "print(classification_report(y_test,y_pred_test))"
   ],
   "metadata": {
    "collapsed": false,
    "ExecuteTime": {
     "start_time": "2023-04-27T23:45:21.344637Z",
     "end_time": "2023-04-27T23:45:21.413128Z"
    }
   }
  },
  {
   "cell_type": "code",
   "execution_count": 37,
   "outputs": [
    {
     "data": {
      "text/plain": "<Figure size 800x600 with 2 Axes>",
      "image/png": "[encoded data removed]"
     },
     "metadata": {},
     "output_type": "display_data"
    }
   ],
   "source": [
    "conf_matrix = confusion_matrix(y_test,y_pred_test)\n",
    "\n",
    "# normalize the confusion matrix\n",
    "conf_matrix_norm = conf_matrix.astype('float') / conf_matrix.sum(axis=1)[:, np.newaxis]\n",
    "\n",
    "# define the labels for the x and y axes, by decoding the one hot encoded values\n",
    "labels = label_encoder.inverse_transform(range(0,30))\n",
    "\n",
    "# create a heatmap of the normalized confusion matrix\n",
    "plt.figure(figsize=(8,6))\n",
    "sns.heatmap(conf_matrix_norm, cmap=\"RdPu\", annot=True, fmt='.1f', xticklabels=labels, yticklabels=labels)\n",
    "\n",
    "# set the title of the plot\n",
    "plt.title(\"SVM Confusion Matrix\")\n",
    "plt.ylabel('Actual')\n",
    "plt.xlabel('Predicted')\n",
    "\n",
    "plt.savefig(\"models/FoamCombo/images/svm_conf_matrix.png\", dpi=300)\n",
    "\n",
    "# show the plot\n",
    "plt.show()"
   ],
   "metadata": {
    "collapsed": false,
    "ExecuteTime": {
     "start_time": "2023-04-27T23:45:21.383146Z",
     "end_time": "2023-04-27T23:45:26.898840Z"
    }
   }
  },
  {
   "cell_type": "markdown",
   "source": [
    "### RF"
   ],
   "metadata": {
    "collapsed": false
   }
  },
  {
   "cell_type": "code",
   "execution_count": 38,
   "outputs": [
    {
     "name": "stdout",
     "output_type": "stream",
     "text": [
      "RF: Carrying out hyperparameter optimisation\n",
      "Best parameters: {'criterion': 'gini', 'max_depth': None, 'max_features': 'auto', 'n_estimators': 50}\n",
      "Best score: 0.9833333333333334\n",
      "RF: Validation accuracy: 1.0000\n"
     ]
    },
    {
     "name": "stderr",
     "output_type": "stream",
     "text": [
      "C:\\Users\\tobyb\\anaconda3\\envs\\piezoSensorGlove\\lib\\site-packages\\sklearn\\ensemble\\_forest.py:424: FutureWarning: `max_features='auto'` has been deprecated in 1.1 and will be removed in 1.3. To keep the past behaviour, explicitly set `max_features='sqrt'` or remove this parameter as it is also the default value for RandomForestClassifiers and ExtraTreesClassifiers.\n",
      "  warn(\n"
     ]
    },
    {
     "data": {
      "text/plain": "Empty DataFrame\nColumns: [actual, pred]\nIndex: []",
      "text/html": "<div>\n<style scoped>\n    .dataframe tbody tr th:only-of-type {\n        vertical-align: middle;\n    }\n\n    .dataframe tbody tr th {\n        vertical-align: top;\n    }\n\n    .dataframe thead th {\n        text-align: right;\n    }\n</style>\n<table border=\"1\" class=\"dataframe\">\n  <thead>\n    <tr style=\"text-align: right;\">\n      <th></th>\n      <th>actual</th>\n      <th>pred</th>\n    </tr>\n  </thead>\n  <tbody>\n  </tbody>\n</table>\n</div>"
     },
     "execution_count": 38,
     "metadata": {},
     "output_type": "execute_result"
    }
   ],
   "source": [
    "# Change for different results\n",
    "cv = 4\n",
    "\n",
    "# define the parameter grid to search over\n",
    "param_grid = {\n",
    "    'n_estimators': [50, 100, 150],\n",
    "    'criterion': ['gini', 'entropy'],\n",
    "    'max_depth': [None, 5, 10],\n",
    "    #'min_samples_split': [2, 5],\n",
    "    #'min_samples_leaf': [1, 2, 4],\n",
    "    'max_features': ['auto', 'sqrt', 'log2']\n",
    "}\n",
    "\n",
    "# create an RF model\n",
    "rf_model_create = RandomForestClassifier(random_state=RANDOM_STATE)\n",
    "\n",
    "# perform grid search to find the best hyperparameters\n",
    "print(\"RF: Carrying out hyperparameter optimisation\")\n",
    "grid_search = GridSearchCV(estimator=rf_model_create, param_grid=param_grid, cv=cv, n_jobs=-1)\n",
    "grid_search.fit(X_train, y_train)\n",
    "\n",
    "# use the best model found by grid search to make predictions on the validation set\n",
    "rf_model = grid_search.best_estimator_\n",
    "print(\"Best parameters:\", grid_search.best_params_)\n",
    "print(\"Best score:\", grid_search.best_score_)\n",
    "\n",
    "# use the trained Random Forest classifier to make predictions on the validation set\n",
    "y_pred_val = rf_model.predict(X_val)\n",
    "# evaluate the best model's accuracy on the validation set\n",
    "val_accuracy = accuracy_score(y_val, y_pred_val)\n",
    "\n",
    "val_comp = pd.DataFrame({'actual': label_encoder.inverse_transform(y_val), 'pred': label_encoder.inverse_transform(y_pred_val)})\n",
    "\n",
    "print(f\"RF: Validation accuracy: {val_accuracy:.4f}\")\n",
    "\n",
    "val_comp.query(\"actual != pred\")"
   ],
   "metadata": {
    "collapsed": false,
    "ExecuteTime": {
     "start_time": "2023-04-27T23:45:26.898840Z",
     "end_time": "2023-04-27T23:45:53.910126Z"
    }
   }
  },
  {
   "cell_type": "code",
   "execution_count": 39,
   "outputs": [
    {
     "name": "stdout",
     "output_type": "stream",
     "text": [
      "RF: Test accuracy: 1.0000\n",
      "RF: Saving model to file\n"
     ]
    },
    {
     "data": {
      "text/plain": "Empty DataFrame\nColumns: [actual, pred]\nIndex: []",
      "text/html": "<div>\n<style scoped>\n    .dataframe tbody tr th:only-of-type {\n        vertical-align: middle;\n    }\n\n    .dataframe tbody tr th {\n        vertical-align: top;\n    }\n\n    .dataframe thead th {\n        text-align: right;\n    }\n</style>\n<table border=\"1\" class=\"dataframe\">\n  <thead>\n    <tr style=\"text-align: right;\">\n      <th></th>\n      <th>actual</th>\n      <th>pred</th>\n    </tr>\n  </thead>\n  <tbody>\n  </tbody>\n</table>\n</div>"
     },
     "execution_count": 39,
     "metadata": {},
     "output_type": "execute_result"
    }
   ],
   "source": [
    "# evaluate the best model's accuracy on the test set\n",
    "y_pred_test = rf_model.predict(X_test)\n",
    "test_accuracy = accuracy_score(y_test, y_pred_test)\n",
    "\n",
    "test_comp = pd.DataFrame({'actual': label_encoder.inverse_transform(y_test), 'pred': label_encoder.inverse_transform(y_pred_test)})\n",
    "\n",
    "print(f\"RF: Test accuracy: {test_accuracy:.4f}\")\n",
    "\n",
    "# save the trained model to a file\n",
    "print(\"RF: Saving model to file\")\n",
    "joblib.dump(rf_model, 'models/FoamCombo/rf_model.joblib')\n",
    "\n",
    "test_comp.query(\"actual != pred\")"
   ],
   "metadata": {
    "collapsed": false,
    "ExecuteTime": {
     "start_time": "2023-04-27T23:45:53.917446Z",
     "end_time": "2023-04-27T23:45:54.400515Z"
    }
   }
  },
  {
   "cell_type": "code",
   "execution_count": 40,
   "outputs": [
    {
     "name": "stdout",
     "output_type": "stream",
     "text": [
      "RF: Evaluation\n",
      "              precision    recall  f1-score   support\n",
      "\n",
      "           0       1.00      1.00      1.00         2\n",
      "           1       1.00      1.00      1.00         2\n",
      "           2       1.00      1.00      1.00         2\n",
      "           3       1.00      1.00      1.00         2\n",
      "           4       1.00      1.00      1.00         2\n",
      "           5       1.00      1.00      1.00         2\n",
      "           6       1.00      1.00      1.00         2\n",
      "           7       1.00      1.00      1.00         2\n",
      "           8       1.00      1.00      1.00         2\n",
      "           9       1.00      1.00      1.00         2\n",
      "          10       1.00      1.00      1.00         2\n",
      "          11       1.00      1.00      1.00         2\n",
      "          12       1.00      1.00      1.00         2\n",
      "          13       1.00      1.00      1.00         2\n",
      "          14       1.00      1.00      1.00         2\n",
      "          15       1.00      1.00      1.00         2\n",
      "          16       1.00      1.00      1.00         2\n",
      "          17       1.00      1.00      1.00         2\n",
      "          18       1.00      1.00      1.00         2\n",
      "          19       1.00      1.00      1.00         2\n",
      "          20       1.00      1.00      1.00         2\n",
      "          21       1.00      1.00      1.00         2\n",
      "          22       1.00      1.00      1.00         2\n",
      "          23       1.00      1.00      1.00         2\n",
      "          24       1.00      1.00      1.00         2\n",
      "          25       1.00      1.00      1.00         2\n",
      "          26       1.00      1.00      1.00         2\n",
      "          27       1.00      1.00      1.00         2\n",
      "          28       1.00      1.00      1.00         2\n",
      "          29       1.00      1.00      1.00         2\n",
      "\n",
      "    accuracy                           1.00        60\n",
      "   macro avg       1.00      1.00      1.00        60\n",
      "weighted avg       1.00      1.00      1.00        60\n",
      "\n"
     ]
    }
   ],
   "source": [
    "print(\"RF: Evaluation\")\n",
    "print(classification_report(y_test,y_pred_test))"
   ],
   "metadata": {
    "collapsed": false,
    "ExecuteTime": {
     "start_time": "2023-04-27T23:45:53.980085Z",
     "end_time": "2023-04-27T23:45:54.440498Z"
    }
   }
  },
  {
   "cell_type": "code",
   "execution_count": 41,
   "outputs": [
    {
     "data": {
      "text/plain": "<Figure size 800x600 with 2 Axes>",
      "image/png": "[encoded data removed]"
     },
     "metadata": {},
     "output_type": "display_data"
    }
   ],
   "source": [
    "conf_matrix = confusion_matrix(y_test,y_pred_test)\n",
    "\n",
    "# normalize the confusion matrix\n",
    "conf_matrix_norm = conf_matrix.astype('float') / conf_matrix.sum(axis=1)[:, np.newaxis]\n",
    "\n",
    "# define the labels for the x and y axes, by decoding the one hot encoded values\n",
    "labels = label_encoder.inverse_transform(range(0,30))\n",
    "\n",
    "# create a heatmap of the normalized confusion matrix\n",
    "plt.figure(figsize=(8,6))\n",
    "sns.heatmap(conf_matrix_norm, cmap=\"RdPu\", annot=True, fmt='.1f', xticklabels=labels, yticklabels=labels)\n",
    "\n",
    "# set the title of the plot\n",
    "plt.title(\"RF Confusion Matrix\")\n",
    "plt.ylabel('Actual')\n",
    "plt.xlabel('Predicted')\n",
    "\n",
    "plt.savefig(\"models/FoamCombo/images/rf_conf_matrix.png\", dpi=300)\n",
    "\n",
    "# show the plot\n",
    "plt.show()"
   ],
   "metadata": {
    "collapsed": false,
    "ExecuteTime": {
     "start_time": "2023-04-27T23:45:54.020360Z",
     "end_time": "2023-04-27T23:46:00.513005Z"
    }
   }
  },
  {
   "cell_type": "markdown",
   "source": [
    "### KNN"
   ],
   "metadata": {
    "collapsed": false
   }
  },
  {
   "cell_type": "code",
   "execution_count": 42,
   "outputs": [
    {
     "name": "stdout",
     "output_type": "stream",
     "text": [
      "kNN: Carrying out hyperparameter optimisation\n",
      "Best parameters: {'algorithm': 'auto', 'n_neighbors': 3, 'weights': 'uniform'}\n",
      "Best score: 0.9416666666666667\n",
      "KNN: Validation accuracy: 1.0000\n"
     ]
    },
    {
     "data": {
      "text/plain": "Empty DataFrame\nColumns: [actual, pred]\nIndex: []",
      "text/html": "<div>\n<style scoped>\n    .dataframe tbody tr th:only-of-type {\n        vertical-align: middle;\n    }\n\n    .dataframe tbody tr th {\n        vertical-align: top;\n    }\n\n    .dataframe thead th {\n        text-align: right;\n    }\n</style>\n<table border=\"1\" class=\"dataframe\">\n  <thead>\n    <tr style=\"text-align: right;\">\n      <th></th>\n      <th>actual</th>\n      <th>pred</th>\n    </tr>\n  </thead>\n  <tbody>\n  </tbody>\n</table>\n</div>"
     },
     "execution_count": 42,
     "metadata": {},
     "output_type": "execute_result"
    }
   ],
   "source": [
    "# Change for different results\n",
    "cv = 4\n",
    "# define the parameter grid to search over\n",
    "param_grid = {\n",
    "    'n_neighbors': [3, 5, 7, 9, 11],\n",
    "    'weights': ['uniform', 'distance'],\n",
    "    'algorithm': ['auto', 'ball_tree', 'kd_tree', 'brute']\n",
    "}\n",
    "# create a KNN classifier and train it on the training data\n",
    "knn_model_create = KNeighborsClassifier()\n",
    "\n",
    "# perform grid search to find the best hyperparameters\n",
    "print(\"kNN: Carrying out hyperparameter optimisation\")\n",
    "grid_search = GridSearchCV(estimator=knn_model_create, param_grid=param_grid, cv=cv, n_jobs=-1)\n",
    "grid_search.fit(X_train, y_train)\n",
    "\n",
    "# use the best model found by grid search to make predictions on the validation set\n",
    "knn_model = grid_search.best_estimator_\n",
    "print(\"Best parameters:\", grid_search.best_params_)\n",
    "print(\"Best score:\", grid_search.best_score_)\n",
    "\n",
    "\n",
    "# use the trained knn classifier to make predictions on the validation set\n",
    "y_pred_val = knn_model.predict(X_val)\n",
    "# evaluate the best model's accuracy on the validation set\n",
    "val_accuracy = accuracy_score(y_val, y_pred_val)\n",
    "\n",
    "val_comp = pd.DataFrame({'actual': label_encoder.inverse_transform(y_val), 'pred': label_encoder.inverse_transform(y_pred_val)})\n",
    "\n",
    "print(f\"KNN: Validation accuracy: {val_accuracy:.4f}\")\n",
    "\n",
    "val_comp.query(\"actual != pred\")"
   ],
   "metadata": {
    "collapsed": false,
    "ExecuteTime": {
     "start_time": "2023-04-27T23:46:00.513005Z",
     "end_time": "2023-04-27T23:46:01.818898Z"
    }
   }
  },
  {
   "cell_type": "code",
   "execution_count": 43,
   "outputs": [
    {
     "name": "stdout",
     "output_type": "stream",
     "text": [
      "KNN: Test accuracy: 0.9833\n",
      "KNN: Saving model to file\n"
     ]
    },
    {
     "data": {
      "text/plain": "   actual   pred\n34      3  Ghayn",
      "text/html": "<div>\n<style scoped>\n    .dataframe tbody tr th:only-of-type {\n        vertical-align: middle;\n    }\n\n    .dataframe tbody tr th {\n        vertical-align: top;\n    }\n\n    .dataframe thead th {\n        text-align: right;\n    }\n</style>\n<table border=\"1\" class=\"dataframe\">\n  <thead>\n    <tr style=\"text-align: right;\">\n      <th></th>\n      <th>actual</th>\n      <th>pred</th>\n    </tr>\n  </thead>\n  <tbody>\n    <tr>\n      <th>34</th>\n      <td>3</td>\n      <td>Ghayn</td>\n    </tr>\n  </tbody>\n</table>\n</div>"
     },
     "execution_count": 43,
     "metadata": {},
     "output_type": "execute_result"
    }
   ],
   "source": [
    "# evaluate the best model's accuracy on the test set\n",
    "y_pred_test = knn_model.predict(X_test)\n",
    "test_accuracy = accuracy_score(y_test, y_pred_test)\n",
    "\n",
    "test_comp = pd.DataFrame({'actual': label_encoder.inverse_transform(y_test), 'pred': label_encoder.inverse_transform(y_pred_test)})\n",
    "\n",
    "print(f\"KNN: Test accuracy: {test_accuracy:.4f}\")\n",
    "\n",
    "# save the trained model to a file\n",
    "print(\"KNN: Saving model to file\")\n",
    "joblib.dump(knn_model, 'models/FoamCombo/knn_model.joblib')\n",
    "\n",
    "test_comp.query(\"actual != pred\")"
   ],
   "metadata": {
    "collapsed": false,
    "ExecuteTime": {
     "start_time": "2023-04-27T23:46:01.747824Z",
     "end_time": "2023-04-27T23:46:01.818898Z"
    }
   }
  },
  {
   "cell_type": "code",
   "execution_count": 44,
   "outputs": [
    {
     "name": "stdout",
     "output_type": "stream",
     "text": [
      "KNN: Evaluation\n",
      "              precision    recall  f1-score   support\n",
      "\n",
      "           0       1.00      1.00      1.00         2\n",
      "           1       1.00      1.00      1.00         2\n",
      "           2       1.00      0.50      0.67         2\n",
      "           3       1.00      1.00      1.00         2\n",
      "           4       1.00      1.00      1.00         2\n",
      "           5       1.00      1.00      1.00         2\n",
      "           6       1.00      1.00      1.00         2\n",
      "           7       1.00      1.00      1.00         2\n",
      "           8       1.00      1.00      1.00         2\n",
      "           9       1.00      1.00      1.00         2\n",
      "          10       1.00      1.00      1.00         2\n",
      "          11       1.00      1.00      1.00         2\n",
      "          12       0.67      1.00      0.80         2\n",
      "          13       1.00      1.00      1.00         2\n",
      "          14       1.00      1.00      1.00         2\n",
      "          15       1.00      1.00      1.00         2\n",
      "          16       1.00      1.00      1.00         2\n",
      "          17       1.00      1.00      1.00         2\n",
      "          18       1.00      1.00      1.00         2\n",
      "          19       1.00      1.00      1.00         2\n",
      "          20       1.00      1.00      1.00         2\n",
      "          21       1.00      1.00      1.00         2\n",
      "          22       1.00      1.00      1.00         2\n",
      "          23       1.00      1.00      1.00         2\n",
      "          24       1.00      1.00      1.00         2\n",
      "          25       1.00      1.00      1.00         2\n",
      "          26       1.00      1.00      1.00         2\n",
      "          27       1.00      1.00      1.00         2\n",
      "          28       1.00      1.00      1.00         2\n",
      "          29       1.00      1.00      1.00         2\n",
      "\n",
      "    accuracy                           0.98        60\n",
      "   macro avg       0.99      0.98      0.98        60\n",
      "weighted avg       0.99      0.98      0.98        60\n",
      "\n"
     ]
    }
   ],
   "source": [
    "print(\"KNN: Evaluation\")\n",
    "print(classification_report(y_test,y_pred_test))"
   ],
   "metadata": {
    "collapsed": false,
    "ExecuteTime": {
     "start_time": "2023-04-27T23:46:01.778279Z",
     "end_time": "2023-04-27T23:46:01.818898Z"
    }
   }
  },
  {
   "cell_type": "code",
   "execution_count": 45,
   "outputs": [
    {
     "data": {
      "text/plain": "<Figure size 800x600 with 2 Axes>",
      "image/png": "[encoded data removed]"
     },
     "metadata": {},
     "output_type": "display_data"
    }
   ],
   "source": [
    "conf_matrix = confusion_matrix(y_test,y_pred_test)\n",
    "\n",
    "# normalize the confusion matrix\n",
    "conf_matrix_norm = conf_matrix.astype('float') / conf_matrix.sum(axis=1)[:, np.newaxis]\n",
    "\n",
    "# define the labels for the x and y axes, by decoding the one hot encoded values\n",
    "labels = label_encoder.inverse_transform(range(0,30))\n",
    "\n",
    "# create a heatmap of the normalized confusion matrix\n",
    "plt.figure(figsize=(8,6))\n",
    "sns.heatmap(conf_matrix_norm, cmap=\"RdPu\", annot=False, fmt='.1f', xticklabels=labels, yticklabels=labels)\n",
    "\n",
    "# set the title of the plot\n",
    "plt.title(\"Foam Combined KNN(1) Confusion Matrix\")\n",
    "plt.ylabel('Actual')\n",
    "plt.xlabel('Predicted')\n",
    "\n",
    "plt.savefig(\"models/FoamCombo/images/knn_conf_matrix.png\", dpi=300)\n",
    "\n",
    "# show the plot\n",
    "plt.show()"
   ],
   "metadata": {
    "collapsed": false,
    "ExecuteTime": {
     "start_time": "2023-04-27T23:46:01.818898Z",
     "end_time": "2023-04-27T23:46:06.997883Z"
    }
   }
  },
  {
   "cell_type": "markdown",
   "source": [
    "### ANN"
   ],
   "metadata": {
    "collapsed": false
   }
  },
  {
   "cell_type": "code",
   "execution_count": 46,
   "outputs": [
    {
     "name": "stdout",
     "output_type": "stream",
     "text": [
      "Epoch 1/1000\n",
      "8/8 [==============================] - 2s 4ms/step - loss: 3.4186 - accuracy: 0.0333\n",
      "Epoch 2/1000\n",
      "8/8 [==============================] - 0s 4ms/step - loss: 3.4116 - accuracy: 0.0333\n",
      "Epoch 3/1000\n",
      "8/8 [==============================] - 0s 3ms/step - loss: 3.4061 - accuracy: 0.0333\n",
      "Epoch 4/1000\n",
      "8/8 [==============================] - 0s 3ms/step - loss: 3.4005 - accuracy: 0.0333\n",
      "Epoch 5/1000\n",
      "8/8 [==============================] - 0s 3ms/step - loss: 3.3955 - accuracy: 0.0333\n",
      "Epoch 6/1000\n",
      "8/8 [==============================] - 0s 4ms/step - loss: 3.3911 - accuracy: 0.0333\n",
      "Epoch 7/1000\n",
      "8/8 [==============================] - 0s 4ms/step - loss: 3.3865 - accuracy: 0.0333\n",
      "Epoch 8/1000\n",
      "8/8 [==============================] - 0s 3ms/step - loss: 3.3819 - accuracy: 0.0333\n",
      "Epoch 9/1000\n",
      "8/8 [==============================] - 0s 3ms/step - loss: 3.3777 - accuracy: 0.0333\n",
      "Epoch 10/1000\n",
      "8/8 [==============================] - 0s 4ms/step - loss: 3.3736 - accuracy: 0.0333\n",
      "Epoch 11/1000\n",
      "8/8 [==============================] - 0s 4ms/step - loss: 3.3690 - accuracy: 0.0333\n",
      "Epoch 12/1000\n",
      "8/8 [==============================] - 0s 3ms/step - loss: 3.3649 - accuracy: 0.0333\n",
      "Epoch 13/1000\n",
      "8/8 [==============================] - 0s 3ms/step - loss: 3.3604 - accuracy: 0.0333\n",
      "Epoch 14/1000\n",
      "8/8 [==============================] - 0s 3ms/step - loss: 3.3559 - accuracy: 0.0333\n",
      "Epoch 15/1000\n",
      "8/8 [==============================] - 0s 3ms/step - loss: 3.3512 - accuracy: 0.0333\n",
      "Epoch 16/1000\n",
      "8/8 [==============================] - 0s 6ms/step - loss: 3.3463 - accuracy: 0.0333\n",
      "Epoch 17/1000\n",
      "8/8 [==============================] - 0s 2ms/step - loss: 3.3414 - accuracy: 0.0333\n",
      "Epoch 18/1000\n",
      "8/8 [==============================] - 0s 3ms/step - loss: 3.3361 - accuracy: 0.0333\n",
      "Epoch 19/1000\n",
      "8/8 [==============================] - 0s 4ms/step - loss: 3.3308 - accuracy: 0.0417\n",
      "Epoch 20/1000\n",
      "8/8 [==============================] - 0s 4ms/step - loss: 3.3247 - accuracy: 0.0500\n",
      "Epoch 21/1000\n",
      "8/8 [==============================] - 0s 3ms/step - loss: 3.3185 - accuracy: 0.0542\n",
      "Epoch 22/1000\n",
      "8/8 [==============================] - 0s 3ms/step - loss: 3.3122 - accuracy: 0.0583\n",
      "Epoch 23/1000\n",
      "8/8 [==============================] - 0s 3ms/step - loss: 3.3052 - accuracy: 0.0583\n",
      "Epoch 24/1000\n",
      "8/8 [==============================] - 0s 3ms/step - loss: 3.2981 - accuracy: 0.0667\n",
      "Epoch 25/1000\n",
      "8/8 [==============================] - 0s 3ms/step - loss: 3.2908 - accuracy: 0.0667\n",
      "Epoch 26/1000\n",
      "8/8 [==============================] - 0s 1ms/step - loss: 3.2833 - accuracy: 0.0667\n",
      "Epoch 27/1000\n",
      "8/8 [==============================] - 0s 4ms/step - loss: 3.2756 - accuracy: 0.0667\n",
      "Epoch 28/1000\n",
      "8/8 [==============================] - 0s 3ms/step - loss: 3.2671 - accuracy: 0.0667\n",
      "Epoch 29/1000\n",
      "8/8 [==============================] - 0s 6ms/step - loss: 3.2585 - accuracy: 0.0667\n",
      "Epoch 30/1000\n",
      "8/8 [==============================] - 0s 4ms/step - loss: 3.2496 - accuracy: 0.0667\n",
      "Epoch 31/1000\n",
      "8/8 [==============================] - 0s 4ms/step - loss: 3.2398 - accuracy: 0.0667\n",
      "Epoch 32/1000\n",
      "8/8 [==============================] - 0s 4ms/step - loss: 3.2303 - accuracy: 0.0667\n",
      "Epoch 33/1000\n",
      "8/8 [==============================] - 0s 4ms/step - loss: 3.2202 - accuracy: 0.0667\n",
      "Epoch 34/1000\n",
      "8/8 [==============================] - 0s 3ms/step - loss: 3.2089 - accuracy: 0.0667\n",
      "Epoch 35/1000\n",
      "8/8 [==============================] - 0s 3ms/step - loss: 3.1977 - accuracy: 0.0667\n",
      "Epoch 36/1000\n",
      "8/8 [==============================] - 0s 3ms/step - loss: 3.1859 - accuracy: 0.0667\n",
      "Epoch 37/1000\n",
      "8/8 [==============================] - 0s 7ms/step - loss: 3.1740 - accuracy: 0.0667\n",
      "Epoch 38/1000\n",
      "8/8 [==============================] - 0s 3ms/step - loss: 3.1612 - accuracy: 0.0667\n",
      "Epoch 39/1000\n",
      "8/8 [==============================] - 0s 4ms/step - loss: 3.1487 - accuracy: 0.0667\n",
      "Epoch 40/1000\n",
      "8/8 [==============================] - 0s 4ms/step - loss: 3.1364 - accuracy: 0.0667\n",
      "Epoch 41/1000\n",
      "8/8 [==============================] - 0s 4ms/step - loss: 3.1232 - accuracy: 0.0667\n",
      "Epoch 42/1000\n",
      "8/8 [==============================] - 0s 3ms/step - loss: 3.1099 - accuracy: 0.0667\n",
      "Epoch 43/1000\n",
      "8/8 [==============================] - 0s 2ms/step - loss: 3.0965 - accuracy: 0.0667\n",
      "Epoch 44/1000\n",
      "8/8 [==============================] - 0s 3ms/step - loss: 3.0825 - accuracy: 0.0667\n",
      "Epoch 45/1000\n",
      "8/8 [==============================] - 0s 3ms/step - loss: 3.0683 - accuracy: 0.0667\n",
      "Epoch 46/1000\n",
      "8/8 [==============================] - 0s 2ms/step - loss: 3.0539 - accuracy: 0.0667\n",
      "Epoch 47/1000\n",
      "8/8 [==============================] - 0s 3ms/step - loss: 3.0392 - accuracy: 0.0667\n",
      "Epoch 48/1000\n",
      "8/8 [==============================] - 0s 3ms/step - loss: 3.0239 - accuracy: 0.0667\n",
      "Epoch 49/1000\n",
      "8/8 [==============================] - 0s 3ms/step - loss: 3.0087 - accuracy: 0.0667\n",
      "Epoch 50/1000\n",
      "8/8 [==============================] - 0s 3ms/step - loss: 2.9934 - accuracy: 0.0667\n",
      "Epoch 51/1000\n",
      "8/8 [==============================] - 0s 3ms/step - loss: 2.9780 - accuracy: 0.0667\n",
      "Epoch 52/1000\n",
      "8/8 [==============================] - 0s 4ms/step - loss: 2.9622 - accuracy: 0.0667\n",
      "Epoch 53/1000\n",
      "8/8 [==============================] - 0s 3ms/step - loss: 2.9464 - accuracy: 0.0667\n",
      "Epoch 54/1000\n",
      "8/8 [==============================] - 0s 4ms/step - loss: 2.9306 - accuracy: 0.0667\n",
      "Epoch 55/1000\n",
      "8/8 [==============================] - 0s 4ms/step - loss: 2.9145 - accuracy: 0.0708\n",
      "Epoch 56/1000\n",
      "8/8 [==============================] - 0s 4ms/step - loss: 2.8987 - accuracy: 0.0875\n",
      "Epoch 57/1000\n",
      "8/8 [==============================] - 0s 3ms/step - loss: 2.8830 - accuracy: 0.0917\n",
      "Epoch 58/1000\n",
      "8/8 [==============================] - 0s 3ms/step - loss: 2.8668 - accuracy: 0.1000\n",
      "Epoch 59/1000\n",
      "8/8 [==============================] - 0s 3ms/step - loss: 2.8505 - accuracy: 0.1000\n",
      "Epoch 60/1000\n",
      "8/8 [==============================] - 0s 4ms/step - loss: 2.8344 - accuracy: 0.1042\n",
      "Epoch 61/1000\n",
      "8/8 [==============================] - 0s 3ms/step - loss: 2.8182 - accuracy: 0.1000\n",
      "Epoch 62/1000\n",
      "8/8 [==============================] - 0s 3ms/step - loss: 2.8021 - accuracy: 0.0875\n",
      "Epoch 63/1000\n",
      "8/8 [==============================] - 0s 3ms/step - loss: 2.7859 - accuracy: 0.0917\n",
      "Epoch 64/1000\n",
      "8/8 [==============================] - 0s 3ms/step - loss: 2.7694 - accuracy: 0.0958\n",
      "Epoch 65/1000\n",
      "8/8 [==============================] - 0s 3ms/step - loss: 2.7536 - accuracy: 0.0792\n",
      "Epoch 66/1000\n",
      "8/8 [==============================] - 0s 3ms/step - loss: 2.7374 - accuracy: 0.0833\n",
      "Epoch 67/1000\n",
      "8/8 [==============================] - 0s 4ms/step - loss: 2.7211 - accuracy: 0.1000\n",
      "Epoch 68/1000\n",
      "8/8 [==============================] - 0s 4ms/step - loss: 2.7048 - accuracy: 0.1000\n",
      "Epoch 69/1000\n",
      "8/8 [==============================] - 0s 3ms/step - loss: 2.6886 - accuracy: 0.1042\n",
      "Epoch 70/1000\n",
      "8/8 [==============================] - 0s 3ms/step - loss: 2.6729 - accuracy: 0.1125\n",
      "Epoch 71/1000\n",
      "8/8 [==============================] - 0s 3ms/step - loss: 2.6565 - accuracy: 0.1167\n",
      "Epoch 72/1000\n",
      "8/8 [==============================] - 0s 2ms/step - loss: 2.6409 - accuracy: 0.1125\n",
      "Epoch 73/1000\n",
      "8/8 [==============================] - 0s 3ms/step - loss: 2.6249 - accuracy: 0.1000\n",
      "Epoch 74/1000\n",
      "8/8 [==============================] - 0s 4ms/step - loss: 2.6092 - accuracy: 0.1042\n",
      "Epoch 75/1000\n",
      "8/8 [==============================] - 0s 4ms/step - loss: 2.5932 - accuracy: 0.1250\n",
      "Epoch 76/1000\n",
      "8/8 [==============================] - 0s 3ms/step - loss: 2.5782 - accuracy: 0.1375\n",
      "Epoch 77/1000\n",
      "8/8 [==============================] - 0s 4ms/step - loss: 2.5622 - accuracy: 0.1458\n",
      "Epoch 78/1000\n",
      "8/8 [==============================] - 0s 4ms/step - loss: 2.5465 - accuracy: 0.1500\n",
      "Epoch 79/1000\n",
      "8/8 [==============================] - 0s 3ms/step - loss: 2.5310 - accuracy: 0.1542\n",
      "Epoch 80/1000\n",
      "8/8 [==============================] - 0s 3ms/step - loss: 2.5156 - accuracy: 0.1458\n",
      "Epoch 81/1000\n",
      "8/8 [==============================] - 0s 3ms/step - loss: 2.5003 - accuracy: 0.1458\n",
      "Epoch 82/1000\n",
      "8/8 [==============================] - 0s 3ms/step - loss: 2.4848 - accuracy: 0.1625\n",
      "Epoch 83/1000\n",
      "8/8 [==============================] - 0s 3ms/step - loss: 2.4699 - accuracy: 0.1792\n",
      "Epoch 84/1000\n",
      "8/8 [==============================] - 0s 3ms/step - loss: 2.4544 - accuracy: 0.2083\n",
      "Epoch 85/1000\n",
      "8/8 [==============================] - 0s 5ms/step - loss: 2.4386 - accuracy: 0.2042\n",
      "Epoch 86/1000\n",
      "8/8 [==============================] - 0s 5ms/step - loss: 2.4234 - accuracy: 0.2042\n",
      "Epoch 87/1000\n",
      "8/8 [==============================] - 0s 4ms/step - loss: 2.4084 - accuracy: 0.2083\n",
      "Epoch 88/1000\n",
      "8/8 [==============================] - 0s 3ms/step - loss: 2.3933 - accuracy: 0.2167\n",
      "Epoch 89/1000\n",
      "8/8 [==============================] - 0s 3ms/step - loss: 2.3780 - accuracy: 0.2333\n",
      "Epoch 90/1000\n",
      "8/8 [==============================] - 0s 3ms/step - loss: 2.3632 - accuracy: 0.2333\n",
      "Epoch 91/1000\n",
      "8/8 [==============================] - 0s 3ms/step - loss: 2.3484 - accuracy: 0.2208\n",
      "Epoch 92/1000\n",
      "8/8 [==============================] - 0s 4ms/step - loss: 2.3329 - accuracy: 0.2333\n",
      "Epoch 93/1000\n",
      "8/8 [==============================] - 0s 4ms/step - loss: 2.3178 - accuracy: 0.2542\n",
      "Epoch 94/1000\n",
      "8/8 [==============================] - 0s 3ms/step - loss: 2.3028 - accuracy: 0.2542\n",
      "Epoch 95/1000\n",
      "8/8 [==============================] - 0s 3ms/step - loss: 2.2870 - accuracy: 0.2667\n",
      "Epoch 96/1000\n",
      "8/8 [==============================] - 0s 3ms/step - loss: 2.2720 - accuracy: 0.3000\n",
      "Epoch 97/1000\n",
      "8/8 [==============================] - 0s 3ms/step - loss: 2.2565 - accuracy: 0.2917\n",
      "Epoch 98/1000\n",
      "8/8 [==============================] - 0s 1ms/step - loss: 2.2406 - accuracy: 0.3083\n",
      "Epoch 99/1000\n",
      "8/8 [==============================] - 0s 3ms/step - loss: 2.2248 - accuracy: 0.3125\n",
      "Epoch 100/1000\n",
      "8/8 [==============================] - 0s 5ms/step - loss: 2.2086 - accuracy: 0.3042\n",
      "Epoch 101/1000\n",
      "8/8 [==============================] - 0s 6ms/step - loss: 2.1930 - accuracy: 0.3167\n",
      "Epoch 102/1000\n",
      "8/8 [==============================] - 0s 11ms/step - loss: 2.1772 - accuracy: 0.3375\n",
      "Epoch 103/1000\n",
      "8/8 [==============================] - 0s 4ms/step - loss: 2.1615 - accuracy: 0.3458\n",
      "Epoch 104/1000\n",
      "8/8 [==============================] - 0s 4ms/step - loss: 2.1452 - accuracy: 0.3542\n",
      "Epoch 105/1000\n",
      "8/8 [==============================] - 0s 3ms/step - loss: 2.1297 - accuracy: 0.3875\n",
      "Epoch 106/1000\n",
      "8/8 [==============================] - 0s 5ms/step - loss: 2.1135 - accuracy: 0.3875\n",
      "Epoch 107/1000\n",
      "8/8 [==============================] - 0s 6ms/step - loss: 2.0984 - accuracy: 0.4083\n",
      "Epoch 108/1000\n",
      "8/8 [==============================] - 0s 3ms/step - loss: 2.0826 - accuracy: 0.4167\n",
      "Epoch 109/1000\n",
      "8/8 [==============================] - 0s 4ms/step - loss: 2.0677 - accuracy: 0.3958\n",
      "Epoch 110/1000\n",
      "8/8 [==============================] - 0s 4ms/step - loss: 2.0525 - accuracy: 0.4000\n",
      "Epoch 111/1000\n",
      "8/8 [==============================] - 0s 7ms/step - loss: 2.0373 - accuracy: 0.4083\n",
      "Epoch 112/1000\n",
      "8/8 [==============================] - 0s 6ms/step - loss: 2.0239 - accuracy: 0.4042\n",
      "Epoch 113/1000\n",
      "8/8 [==============================] - 0s 4ms/step - loss: 2.0074 - accuracy: 0.4292\n",
      "Epoch 114/1000\n",
      "8/8 [==============================] - 0s 3ms/step - loss: 1.9928 - accuracy: 0.4333\n",
      "Epoch 115/1000\n",
      "8/8 [==============================] - 0s 3ms/step - loss: 1.9780 - accuracy: 0.4333\n",
      "Epoch 116/1000\n",
      "8/8 [==============================] - 0s 7ms/step - loss: 1.9637 - accuracy: 0.4292\n",
      "Epoch 117/1000\n",
      "8/8 [==============================] - 0s 9ms/step - loss: 1.9495 - accuracy: 0.4458\n",
      "Epoch 118/1000\n",
      "8/8 [==============================] - 0s 3ms/step - loss: 1.9353 - accuracy: 0.4625\n",
      "Epoch 119/1000\n",
      "8/8 [==============================] - 0s 6ms/step - loss: 1.9202 - accuracy: 0.4792\n",
      "Epoch 120/1000\n",
      "8/8 [==============================] - 0s 6ms/step - loss: 1.9071 - accuracy: 0.4792\n",
      "Epoch 121/1000\n",
      "8/8 [==============================] - 0s 3ms/step - loss: 1.8925 - accuracy: 0.4833\n",
      "Epoch 122/1000\n",
      "8/8 [==============================] - 0s 3ms/step - loss: 1.8794 - accuracy: 0.4917\n",
      "Epoch 123/1000\n",
      "8/8 [==============================] - 0s 3ms/step - loss: 1.8648 - accuracy: 0.4958\n",
      "Epoch 124/1000\n",
      "8/8 [==============================] - 0s 3ms/step - loss: 1.8513 - accuracy: 0.5083\n",
      "Epoch 125/1000\n",
      "8/8 [==============================] - 0s 3ms/step - loss: 1.8369 - accuracy: 0.5167\n",
      "Epoch 126/1000\n",
      "8/8 [==============================] - 0s 6ms/step - loss: 1.8235 - accuracy: 0.5333\n",
      "Epoch 127/1000\n",
      "8/8 [==============================] - 0s 3ms/step - loss: 1.8106 - accuracy: 0.5500\n",
      "Epoch 128/1000\n",
      "8/8 [==============================] - 0s 3ms/step - loss: 1.7970 - accuracy: 0.5500\n",
      "Epoch 129/1000\n",
      "8/8 [==============================] - 0s 3ms/step - loss: 1.7844 - accuracy: 0.5500\n",
      "Epoch 130/1000\n",
      "8/8 [==============================] - 0s 3ms/step - loss: 1.7703 - accuracy: 0.5542\n",
      "Epoch 131/1000\n",
      "8/8 [==============================] - 0s 3ms/step - loss: 1.7584 - accuracy: 0.5708\n",
      "Epoch 132/1000\n",
      "8/8 [==============================] - 0s 3ms/step - loss: 1.7444 - accuracy: 0.5500\n",
      "Epoch 133/1000\n",
      "8/8 [==============================] - 0s 3ms/step - loss: 1.7324 - accuracy: 0.5500\n",
      "Epoch 134/1000\n",
      "8/8 [==============================] - 0s 3ms/step - loss: 1.7198 - accuracy: 0.5583\n",
      "Epoch 135/1000\n",
      "8/8 [==============================] - 0s 3ms/step - loss: 1.7062 - accuracy: 0.5792\n",
      "Epoch 136/1000\n",
      "8/8 [==============================] - 0s 3ms/step - loss: 1.6925 - accuracy: 0.5458\n",
      "Epoch 137/1000\n",
      "8/8 [==============================] - 0s 3ms/step - loss: 1.6803 - accuracy: 0.5583\n",
      "Epoch 138/1000\n",
      "8/8 [==============================] - 0s 3ms/step - loss: 1.6662 - accuracy: 0.5708\n",
      "Epoch 139/1000\n",
      "8/8 [==============================] - 0s 4ms/step - loss: 1.6555 - accuracy: 0.5917\n",
      "Epoch 140/1000\n",
      "8/8 [==============================] - 0s 3ms/step - loss: 1.6422 - accuracy: 0.6000\n",
      "Epoch 141/1000\n",
      "8/8 [==============================] - 0s 3ms/step - loss: 1.6299 - accuracy: 0.5958\n",
      "Epoch 142/1000\n",
      "8/8 [==============================] - 0s 4ms/step - loss: 1.6179 - accuracy: 0.6042\n",
      "Epoch 143/1000\n",
      "8/8 [==============================] - 0s 4ms/step - loss: 1.6055 - accuracy: 0.6125\n",
      "Epoch 144/1000\n",
      "8/8 [==============================] - 0s 3ms/step - loss: 1.5931 - accuracy: 0.6125\n",
      "Epoch 145/1000\n",
      "8/8 [==============================] - 0s 4ms/step - loss: 1.5801 - accuracy: 0.6042\n",
      "Epoch 146/1000\n",
      "8/8 [==============================] - 0s 4ms/step - loss: 1.5682 - accuracy: 0.6083\n",
      "Epoch 147/1000\n",
      "8/8 [==============================] - 0s 4ms/step - loss: 1.5561 - accuracy: 0.6042\n",
      "Epoch 148/1000\n",
      "8/8 [==============================] - 0s 4ms/step - loss: 1.5458 - accuracy: 0.5833\n",
      "Epoch 149/1000\n",
      "8/8 [==============================] - 0s 4ms/step - loss: 1.5323 - accuracy: 0.5875\n",
      "Epoch 150/1000\n",
      "8/8 [==============================] - 0s 4ms/step - loss: 1.5207 - accuracy: 0.5958\n",
      "Epoch 151/1000\n",
      "8/8 [==============================] - 0s 6ms/step - loss: 1.5097 - accuracy: 0.6250\n",
      "Epoch 152/1000\n",
      "8/8 [==============================] - 0s 4ms/step - loss: 1.4981 - accuracy: 0.6375\n",
      "Epoch 153/1000\n",
      "8/8 [==============================] - 0s 4ms/step - loss: 1.4860 - accuracy: 0.6458\n",
      "Epoch 154/1000\n",
      "8/8 [==============================] - 0s 4ms/step - loss: 1.4741 - accuracy: 0.6458\n",
      "Epoch 155/1000\n",
      "8/8 [==============================] - 0s 6ms/step - loss: 1.4633 - accuracy: 0.6542\n",
      "Epoch 156/1000\n",
      "8/8 [==============================] - 0s 3ms/step - loss: 1.4522 - accuracy: 0.6458\n",
      "Epoch 157/1000\n",
      "8/8 [==============================] - 0s 4ms/step - loss: 1.4399 - accuracy: 0.6500\n",
      "Epoch 158/1000\n",
      "8/8 [==============================] - 0s 5ms/step - loss: 1.4301 - accuracy: 0.6417\n",
      "Epoch 159/1000\n",
      "8/8 [==============================] - 0s 4ms/step - loss: 1.4191 - accuracy: 0.6500\n",
      "Epoch 160/1000\n",
      "8/8 [==============================] - 0s 3ms/step - loss: 1.4080 - accuracy: 0.6500\n",
      "Epoch 161/1000\n",
      "8/8 [==============================] - 0s 4ms/step - loss: 1.3965 - accuracy: 0.6583\n",
      "Epoch 162/1000\n",
      "8/8 [==============================] - 0s 6ms/step - loss: 1.3847 - accuracy: 0.6708\n",
      "Epoch 163/1000\n",
      "8/8 [==============================] - 0s 4ms/step - loss: 1.3747 - accuracy: 0.6750\n",
      "Epoch 164/1000\n",
      "8/8 [==============================] - 0s 4ms/step - loss: 1.3647 - accuracy: 0.6708\n",
      "Epoch 165/1000\n",
      "8/8 [==============================] - 0s 4ms/step - loss: 1.3546 - accuracy: 0.6750\n",
      "Epoch 166/1000\n",
      "8/8 [==============================] - 0s 4ms/step - loss: 1.3433 - accuracy: 0.6708\n",
      "Epoch 167/1000\n",
      "8/8 [==============================] - 0s 3ms/step - loss: 1.3325 - accuracy: 0.6750\n",
      "Epoch 168/1000\n",
      "8/8 [==============================] - 0s 4ms/step - loss: 1.3226 - accuracy: 0.6750\n",
      "Epoch 169/1000\n",
      "8/8 [==============================] - 0s 4ms/step - loss: 1.3122 - accuracy: 0.6750\n",
      "Epoch 170/1000\n",
      "8/8 [==============================] - 0s 4ms/step - loss: 1.3022 - accuracy: 0.6917\n",
      "Epoch 171/1000\n",
      "8/8 [==============================] - 0s 3ms/step - loss: 1.2929 - accuracy: 0.7000\n",
      "Epoch 172/1000\n",
      "8/8 [==============================] - 0s 4ms/step - loss: 1.2816 - accuracy: 0.6958\n",
      "Epoch 173/1000\n",
      "8/8 [==============================] - 0s 4ms/step - loss: 1.2716 - accuracy: 0.7083\n",
      "Epoch 174/1000\n",
      "8/8 [==============================] - 0s 1ms/step - loss: 1.2614 - accuracy: 0.7000\n",
      "Epoch 175/1000\n",
      "8/8 [==============================] - 0s 4ms/step - loss: 1.2517 - accuracy: 0.7000\n",
      "Epoch 176/1000\n",
      "8/8 [==============================] - 0s 3ms/step - loss: 1.2412 - accuracy: 0.7042\n",
      "Epoch 177/1000\n",
      "8/8 [==============================] - 0s 3ms/step - loss: 1.2319 - accuracy: 0.7167\n",
      "Epoch 178/1000\n",
      "8/8 [==============================] - 0s 3ms/step - loss: 1.2240 - accuracy: 0.7333\n",
      "Epoch 179/1000\n",
      "8/8 [==============================] - 0s 2ms/step - loss: 1.2141 - accuracy: 0.7625\n",
      "Epoch 180/1000\n",
      "8/8 [==============================] - 0s 3ms/step - loss: 1.2042 - accuracy: 0.7542\n",
      "Epoch 181/1000\n",
      "8/8 [==============================] - 0s 3ms/step - loss: 1.1966 - accuracy: 0.7417\n",
      "Epoch 182/1000\n",
      "8/8 [==============================] - 0s 3ms/step - loss: 1.1850 - accuracy: 0.7458\n",
      "Epoch 183/1000\n",
      "8/8 [==============================] - 0s 3ms/step - loss: 1.1751 - accuracy: 0.7417\n",
      "Epoch 184/1000\n",
      "8/8 [==============================] - 0s 4ms/step - loss: 1.1678 - accuracy: 0.7375\n",
      "Epoch 185/1000\n",
      "8/8 [==============================] - 0s 4ms/step - loss: 1.1585 - accuracy: 0.7375\n",
      "Epoch 186/1000\n",
      "8/8 [==============================] - 0s 3ms/step - loss: 1.1496 - accuracy: 0.7375\n",
      "Epoch 187/1000\n",
      "8/8 [==============================] - 0s 3ms/step - loss: 1.1401 - accuracy: 0.7375\n",
      "Epoch 188/1000\n",
      "8/8 [==============================] - 0s 2ms/step - loss: 1.1311 - accuracy: 0.7500\n",
      "Epoch 189/1000\n",
      "8/8 [==============================] - 0s 3ms/step - loss: 1.1219 - accuracy: 0.7583\n",
      "Epoch 190/1000\n",
      "8/8 [==============================] - 0s 3ms/step - loss: 1.1139 - accuracy: 0.7333\n",
      "Epoch 191/1000\n",
      "8/8 [==============================] - 0s 3ms/step - loss: 1.1058 - accuracy: 0.7333\n",
      "Epoch 192/1000\n",
      "8/8 [==============================] - 0s 4ms/step - loss: 1.0974 - accuracy: 0.7583\n",
      "Epoch 193/1000\n",
      "8/8 [==============================] - 0s 4ms/step - loss: 1.0878 - accuracy: 0.7667\n",
      "Epoch 194/1000\n",
      "8/8 [==============================] - 0s 3ms/step - loss: 1.0794 - accuracy: 0.7500\n",
      "Epoch 195/1000\n",
      "8/8 [==============================] - 0s 4ms/step - loss: 1.0711 - accuracy: 0.7333\n",
      "Epoch 196/1000\n",
      "8/8 [==============================] - 0s 4ms/step - loss: 1.0640 - accuracy: 0.7500\n",
      "Epoch 197/1000\n",
      "8/8 [==============================] - 0s 9ms/step - loss: 1.0588 - accuracy: 0.7750\n",
      "Epoch 198/1000\n",
      "8/8 [==============================] - 0s 4ms/step - loss: 1.0474 - accuracy: 0.7875\n",
      "Epoch 199/1000\n",
      "8/8 [==============================] - 0s 4ms/step - loss: 1.0388 - accuracy: 0.7833\n",
      "Epoch 200/1000\n",
      "8/8 [==============================] - 0s 3ms/step - loss: 1.0325 - accuracy: 0.7792\n",
      "Epoch 201/1000\n",
      "8/8 [==============================] - 0s 3ms/step - loss: 1.0243 - accuracy: 0.7917\n",
      "Epoch 202/1000\n",
      "8/8 [==============================] - 0s 3ms/step - loss: 1.0157 - accuracy: 0.8042\n",
      "Epoch 203/1000\n",
      "8/8 [==============================] - 0s 3ms/step - loss: 1.0085 - accuracy: 0.8000\n",
      "Epoch 204/1000\n",
      "8/8 [==============================] - 0s 4ms/step - loss: 1.0015 - accuracy: 0.7958\n",
      "Epoch 205/1000\n",
      "8/8 [==============================] - 0s 3ms/step - loss: 0.9937 - accuracy: 0.8042\n",
      "Epoch 206/1000\n",
      "8/8 [==============================] - 0s 3ms/step - loss: 0.9857 - accuracy: 0.8208\n",
      "Epoch 207/1000\n",
      "8/8 [==============================] - 0s 3ms/step - loss: 0.9792 - accuracy: 0.8083\n",
      "Epoch 208/1000\n",
      "8/8 [==============================] - 0s 3ms/step - loss: 0.9716 - accuracy: 0.8042\n",
      "Epoch 209/1000\n",
      "8/8 [==============================] - 0s 4ms/step - loss: 0.9653 - accuracy: 0.7958\n",
      "Epoch 210/1000\n",
      "8/8 [==============================] - 0s 4ms/step - loss: 0.9577 - accuracy: 0.8000\n",
      "Epoch 211/1000\n",
      "8/8 [==============================] - 0s 3ms/step - loss: 0.9515 - accuracy: 0.8125\n",
      "Epoch 212/1000\n",
      "8/8 [==============================] - 0s 3ms/step - loss: 0.9454 - accuracy: 0.8083\n",
      "Epoch 213/1000\n",
      "8/8 [==============================] - 0s 3ms/step - loss: 0.9382 - accuracy: 0.8250\n",
      "Epoch 214/1000\n",
      "8/8 [==============================] - 0s 3ms/step - loss: 0.9305 - accuracy: 0.8167\n",
      "Epoch 215/1000\n",
      "8/8 [==============================] - 0s 1ms/step - loss: 0.9240 - accuracy: 0.8292\n",
      "Epoch 216/1000\n",
      "8/8 [==============================] - 0s 3ms/step - loss: 0.9177 - accuracy: 0.8333\n",
      "Epoch 217/1000\n",
      "8/8 [==============================] - 0s 3ms/step - loss: 0.9119 - accuracy: 0.8375\n",
      "Epoch 218/1000\n",
      "8/8 [==============================] - 0s 3ms/step - loss: 0.9049 - accuracy: 0.8417\n",
      "Epoch 219/1000\n",
      "8/8 [==============================] - 0s 4ms/step - loss: 0.8986 - accuracy: 0.8208\n",
      "Epoch 220/1000\n",
      "8/8 [==============================] - 0s 7ms/step - loss: 0.8927 - accuracy: 0.8125\n",
      "Epoch 221/1000\n",
      "8/8 [==============================] - 0s 3ms/step - loss: 0.8864 - accuracy: 0.8083\n",
      "Epoch 222/1000\n",
      "8/8 [==============================] - 0s 4ms/step - loss: 0.8817 - accuracy: 0.8250\n",
      "Epoch 223/1000\n",
      "8/8 [==============================] - 0s 4ms/step - loss: 0.8742 - accuracy: 0.8417\n",
      "Epoch 224/1000\n",
      "8/8 [==============================] - 0s 3ms/step - loss: 0.8697 - accuracy: 0.8542\n",
      "Epoch 225/1000\n",
      "8/8 [==============================] - 0s 3ms/step - loss: 0.8635 - accuracy: 0.8542\n",
      "Epoch 226/1000\n",
      "8/8 [==============================] - 0s 3ms/step - loss: 0.8573 - accuracy: 0.8542\n",
      "Epoch 227/1000\n",
      "8/8 [==============================] - 0s 3ms/step - loss: 0.8524 - accuracy: 0.8542\n",
      "Epoch 228/1000\n",
      "8/8 [==============================] - 0s 4ms/step - loss: 0.8462 - accuracy: 0.8583\n",
      "Epoch 229/1000\n",
      "8/8 [==============================] - 0s 3ms/step - loss: 0.8407 - accuracy: 0.8625\n",
      "Epoch 230/1000\n",
      "8/8 [==============================] - 0s 3ms/step - loss: 0.8345 - accuracy: 0.8417\n",
      "Epoch 231/1000\n",
      "8/8 [==============================] - 0s 4ms/step - loss: 0.8297 - accuracy: 0.8458\n",
      "Epoch 232/1000\n",
      "8/8 [==============================] - 0s 4ms/step - loss: 0.8235 - accuracy: 0.8500\n",
      "Epoch 233/1000\n",
      "8/8 [==============================] - 0s 3ms/step - loss: 0.8188 - accuracy: 0.8583\n",
      "Epoch 234/1000\n",
      "8/8 [==============================] - 0s 3ms/step - loss: 0.8143 - accuracy: 0.8625\n",
      "Epoch 235/1000\n",
      "8/8 [==============================] - 0s 3ms/step - loss: 0.8091 - accuracy: 0.8667\n",
      "Epoch 236/1000\n",
      "8/8 [==============================] - 0s 4ms/step - loss: 0.8039 - accuracy: 0.8583\n",
      "Epoch 237/1000\n",
      "8/8 [==============================] - 0s 2ms/step - loss: 0.7981 - accuracy: 0.8542\n",
      "Epoch 238/1000\n",
      "8/8 [==============================] - 0s 3ms/step - loss: 0.7935 - accuracy: 0.8500\n",
      "Epoch 239/1000\n",
      "8/8 [==============================] - 0s 3ms/step - loss: 0.7887 - accuracy: 0.8500\n",
      "Epoch 240/1000\n",
      "8/8 [==============================] - 0s 4ms/step - loss: 0.7827 - accuracy: 0.8542\n",
      "Epoch 241/1000\n",
      "8/8 [==============================] - 0s 4ms/step - loss: 0.7788 - accuracy: 0.8583\n",
      "Epoch 242/1000\n",
      "8/8 [==============================] - 0s 4ms/step - loss: 0.7731 - accuracy: 0.8583\n",
      "Epoch 243/1000\n",
      "8/8 [==============================] - 0s 3ms/step - loss: 0.7698 - accuracy: 0.8542\n",
      "Epoch 244/1000\n",
      "8/8 [==============================] - 0s 4ms/step - loss: 0.7644 - accuracy: 0.8500\n",
      "Epoch 245/1000\n",
      "8/8 [==============================] - 0s 5ms/step - loss: 0.7589 - accuracy: 0.8458\n",
      "Epoch 246/1000\n",
      "8/8 [==============================] - 0s 4ms/step - loss: 0.7548 - accuracy: 0.8583\n",
      "Epoch 247/1000\n",
      "8/8 [==============================] - 0s 3ms/step - loss: 0.7520 - accuracy: 0.8500\n",
      "Epoch 248/1000\n",
      "8/8 [==============================] - 0s 4ms/step - loss: 0.7467 - accuracy: 0.8583\n",
      "Epoch 249/1000\n",
      "8/8 [==============================] - 0s 3ms/step - loss: 0.7427 - accuracy: 0.8750\n",
      "Epoch 250/1000\n",
      "8/8 [==============================] - 0s 4ms/step - loss: 0.7379 - accuracy: 0.8667\n",
      "Epoch 251/1000\n",
      "8/8 [==============================] - 0s 3ms/step - loss: 0.7335 - accuracy: 0.8667\n",
      "Epoch 252/1000\n",
      "8/8 [==============================] - 0s 3ms/step - loss: 0.7288 - accuracy: 0.8833\n",
      "Epoch 253/1000\n",
      "8/8 [==============================] - 0s 4ms/step - loss: 0.7241 - accuracy: 0.8667\n",
      "Epoch 254/1000\n",
      "8/8 [==============================] - 0s 3ms/step - loss: 0.7208 - accuracy: 0.8583\n",
      "Epoch 255/1000\n",
      "8/8 [==============================] - 0s 4ms/step - loss: 0.7164 - accuracy: 0.8542\n",
      "Epoch 256/1000\n",
      "8/8 [==============================] - 0s 3ms/step - loss: 0.7122 - accuracy: 0.8542\n",
      "Epoch 257/1000\n",
      "8/8 [==============================] - 0s 3ms/step - loss: 0.7081 - accuracy: 0.8667\n",
      "Epoch 258/1000\n",
      "8/8 [==============================] - 0s 3ms/step - loss: 0.7043 - accuracy: 0.8792\n",
      "Epoch 259/1000\n",
      "8/8 [==============================] - 0s 4ms/step - loss: 0.7002 - accuracy: 0.8750\n",
      "Epoch 260/1000\n",
      "8/8 [==============================] - 0s 3ms/step - loss: 0.6963 - accuracy: 0.8750\n",
      "Epoch 261/1000\n",
      "8/8 [==============================] - 0s 3ms/step - loss: 0.6909 - accuracy: 0.8833\n",
      "Epoch 262/1000\n",
      "8/8 [==============================] - 0s 3ms/step - loss: 0.6894 - accuracy: 0.8833\n",
      "Epoch 263/1000\n",
      "8/8 [==============================] - 0s 3ms/step - loss: 0.6852 - accuracy: 0.8833\n",
      "Epoch 264/1000\n",
      "8/8 [==============================] - 0s 4ms/step - loss: 0.6810 - accuracy: 0.8750\n",
      "Epoch 265/1000\n",
      "8/8 [==============================] - 0s 3ms/step - loss: 0.6777 - accuracy: 0.8750\n",
      "Epoch 266/1000\n",
      "8/8 [==============================] - 0s 3ms/step - loss: 0.6735 - accuracy: 0.8792\n",
      "Epoch 267/1000\n",
      "8/8 [==============================] - 0s 3ms/step - loss: 0.6719 - accuracy: 0.8750\n",
      "Epoch 268/1000\n",
      "8/8 [==============================] - 0s 3ms/step - loss: 0.6664 - accuracy: 0.8750\n",
      "Epoch 269/1000\n",
      "8/8 [==============================] - 0s 3ms/step - loss: 0.6626 - accuracy: 0.8875\n",
      "Epoch 270/1000\n",
      "8/8 [==============================] - 0s 4ms/step - loss: 0.6588 - accuracy: 0.8833\n",
      "Epoch 271/1000\n",
      "8/8 [==============================] - 0s 3ms/step - loss: 0.6555 - accuracy: 0.8917\n",
      "Epoch 272/1000\n",
      "8/8 [==============================] - 0s 3ms/step - loss: 0.6520 - accuracy: 0.8875\n",
      "Epoch 273/1000\n",
      "8/8 [==============================] - 0s 3ms/step - loss: 0.6501 - accuracy: 0.8792\n",
      "Epoch 274/1000\n",
      "8/8 [==============================] - 0s 4ms/step - loss: 0.6455 - accuracy: 0.8792\n",
      "Epoch 275/1000\n",
      "8/8 [==============================] - 0s 4ms/step - loss: 0.6436 - accuracy: 0.8667\n",
      "Epoch 276/1000\n",
      "8/8 [==============================] - 0s 3ms/step - loss: 0.6390 - accuracy: 0.8708\n",
      "Epoch 277/1000\n",
      "8/8 [==============================] - 0s 3ms/step - loss: 0.6360 - accuracy: 0.8667\n",
      "Epoch 278/1000\n",
      "8/8 [==============================] - 0s 3ms/step - loss: 0.6322 - accuracy: 0.8667\n",
      "Epoch 279/1000\n",
      "8/8 [==============================] - 0s 3ms/step - loss: 0.6294 - accuracy: 0.8833\n",
      "Epoch 280/1000\n",
      "8/8 [==============================] - 0s 3ms/step - loss: 0.6266 - accuracy: 0.8875\n",
      "Epoch 281/1000\n",
      "8/8 [==============================] - 0s 3ms/step - loss: 0.6226 - accuracy: 0.8708\n",
      "Epoch 282/1000\n",
      "8/8 [==============================] - 0s 3ms/step - loss: 0.6194 - accuracy: 0.8708\n",
      "Epoch 283/1000\n",
      "8/8 [==============================] - 0s 3ms/step - loss: 0.6163 - accuracy: 0.8792\n",
      "Epoch 284/1000\n",
      "8/8 [==============================] - 0s 4ms/step - loss: 0.6138 - accuracy: 0.8833\n",
      "Epoch 285/1000\n",
      "8/8 [==============================] - 0s 4ms/step - loss: 0.6112 - accuracy: 0.8917\n",
      "Epoch 286/1000\n",
      "8/8 [==============================] - 0s 4ms/step - loss: 0.6079 - accuracy: 0.8917\n",
      "Epoch 287/1000\n",
      "8/8 [==============================] - 0s 2ms/step - loss: 0.6046 - accuracy: 0.9000\n",
      "Epoch 288/1000\n",
      "8/8 [==============================] - 0s 3ms/step - loss: 0.6027 - accuracy: 0.8875\n",
      "Epoch 289/1000\n",
      "8/8 [==============================] - 0s 4ms/step - loss: 0.5998 - accuracy: 0.8833\n"
     ]
    }
   ],
   "source": [
    "#initialise\n",
    "ann_model = tf.keras.models.Sequential()\n",
    "\n",
    "\n",
    "ann_model.add(tf.keras.layers.Dense(units=6, activation='relu'))\n",
    "ann_model.add(tf.keras.layers.Dense(units=6, activation='relu'))\n",
    "ann_model.add(tf.keras.layers.Dense(units=30, activation=\"softmax\"))\n",
    "ann_model.compile(optimizer=\"adam\",loss=\"categorical_crossentropy\",metrics=['accuracy'])\n",
    "\n",
    "ann_model.fit(X_train,tf.keras.utils.to_categorical(y_train, 30),epochs = 1000)\n"
   ],
   "metadata": {
    "collapsed": false,
    "ExecuteTime": {
     "start_time": "2023-04-27T23:46:06.997883Z",
     "end_time": "2023-04-27T23:46:42.250686Z"
    }
   }
  },
  {
   "cell_type": "markdown",
   "source": [],
   "metadata": {
    "collapsed": false
   }
  },
  {
   "cell_type": "code",
   "execution_count": 47,
   "outputs": [],
   "source": [
    "val_loss, val_acc = ann_model.evaluate(X_val, tf.keras.utils.to_categorical(y_val, 30))\n",
    "\n",
    "print('Validation accuracy:', val_acc)\n",
    "val_comp.query(\"actual != pred\")\n",
    "\n",
    "\n",
    "y_pred_val = ann_model.predict(X_val)\n",
    "y_pred_val_labels=np.argmax(y_pred_val, axis=1)\n",
    "val_comp = pd.DataFrame({'actual': label_encoder.inverse_transform(y_val), 'pred': label_encoder.inverse_transform(y_pred_val_labels)})\n",
    "\n",
    "val_comp.query(\"actual != pred\")"
   ],
   "metadata": {
    "collapsed": false,
    "ExecuteTime": {
     "start_time": "2023-04-27T23:45:06.082269Z",
     "end_time": "2023-04-27T23:46:42.890609Z"
    }
   }
  },
  {
   "cell_type": "markdown",
   "source": [],
   "metadata": {
    "collapsed": false
   }
  },
  {
   "cell_type": "code",
   "execution_count": 48,
   "outputs": [],
   "source": [
    "test_loss, test_acc = ann_model.evaluate(X_test, tf.keras.utils.to_categorical(y_test, 30))\n",
    "\n",
    "print('Test accuracy:', test_acc)\n",
    "\n",
    "# save the trained model to a file\n",
    "print(\"ANN: Saving model to file\")\n",
    "joblib.dump(ann_model, 'models/FoamCombo/ann_model.joblib')\n",
    "\n",
    "y_pred_test = ann_model.predict(X_test)\n",
    "y_pred_test_labels=np.argmax(y_pred_test, axis=1)\n",
    "test_comp = pd.DataFrame({'actual': label_encoder.inverse_transform(y_test), 'pred': label_encoder.inverse_transform(y_pred_test_labels)})\n",
    "\n",
    "test_comp.query(\"actual != pred\")"
   ],
   "metadata": {
    "collapsed": false,
    "ExecuteTime": {
     "start_time": "2023-04-27T23:45:06.173401Z",
     "end_time": "2023-04-27T23:46:44.548937Z"
    }
   }
  },
  {
   "cell_type": "markdown",
   "source": [],
   "metadata": {
    "collapsed": false
   }
  },
  {
   "cell_type": "code",
   "execution_count": 49,
   "outputs": [],
   "source": [
    "print(\"ANN: Evaluation\")\n",
    "print(classification_report(y_test,y_pred_test_labels))"
   ],
   "metadata": {
    "collapsed": false,
    "ExecuteTime": {
     "start_time": "2023-04-27T23:45:06.284754Z",
     "end_time": "2023-04-27T23:46:44.588937Z"
    }
   }
  },
  {
   "cell_type": "code",
   "execution_count": 50,
   "outputs": [],
   "source": [
    "conf_matrix = confusion_matrix(y_test,y_pred_test_labels)\n",
    "\n",
    "# normalize the confusion matrix\n",
    "conf_matrix_norm = conf_matrix.astype('float') / conf_matrix.sum(axis=1)[:, np.newaxis]\n",
    "\n",
    "# define the labels for the x and y axes, by decoding the one hot encoded values\n",
    "labels = label_encoder.inverse_transform(range(0,30))\n",
    "\n",
    "# create a heatmap of the normalized confusion matrix\n",
    "plt.figure(figsize=(8,6))\n",
    "sns.heatmap(conf_matrix_norm, cmap=\"RdPu\", annot=True, fmt='.1f', xticklabels=labels, yticklabels=labels)\n",
    "\n",
    "# set the title of the plot\n",
    "plt.title(\"ANN Confusion Matrix\")\n",
    "plt.ylabel('Actual')\n",
    "plt.xlabel('Predicted')\n",
    "\n",
    "plt.savefig(\"models/FoamCombo/images/ann_conf_matrix.png\", dpi=300)\n",
    "\n",
    "# show the plot\n",
    "plt.show()"
   ],
   "metadata": {
    "collapsed": false,
    "ExecuteTime": {
     "start_time": "2023-04-27T23:45:06.284754Z",
     "end_time": "2023-04-27T23:46:55.014325Z"
    }
   }
  },
  {
   "cell_type": "markdown",
   "source": [
    "### XGBoost"
   ],
   "metadata": {
    "collapsed": false
   }
  },
  {
   "cell_type": "code",
   "execution_count": 51,
   "outputs": [],
   "source": [
    "cv=4\n",
    "param_grid = {\n",
    "    'n_estimators': [100, 500, 1000],\n",
    "    'learning_rate': [0.01, 0.1, 0.5],\n",
    "    'max_depth': [3, 5, 7],\n",
    "    'min_child_weight': [1, 3, 5],\n",
    "    #'subsample': [0.5, 0.7, 0.9],\n",
    "   # 'colsample_bytree': [0.5, 0.7, 0.9],\n",
    "    #'reg_alpha': [0, 0.01, 0.1],\n",
    "   # 'reg_lambda': [0, 0.01, 0.1]\n",
    "}\n",
    "xgb_model = XGBClassifier()\n",
    "\n",
    "print(\"XGBoost: Carrying out hyperparameter optimisation\")\n",
    "grid_search = GridSearchCV(xgb_model, param_grid=param_grid, n_jobs=-1, cv=cv, scoring='accuracy')\n",
    "grid_search.fit(X_train, y_train)\n",
    "\n",
    "# use the best model found by grid search to make predictions on the validation set\n",
    "xgb_best_model = grid_search.best_estimator_\n",
    "print(\"Best parameters:\", grid_search.best_params_)\n",
    "print(\"Best score:\", grid_search.best_score_)\n",
    "\n",
    "\n",
    "y_pred_val = xgb_best_model.predict(X_val)\n",
    "# evaluate the best model's accuracy on the validation set\n",
    "val_accuracy = accuracy_score(y_val, y_pred_val)\n",
    "\n",
    "val_comp = pd.DataFrame({'actual': label_encoder.inverse_transform(y_val), 'pred': label_encoder.inverse_transform(y_pred_val)})\n",
    "\n",
    "print(f\"XGBoost: Validation accuracy: {val_accuracy:.4f}\")\n",
    "\n",
    "val_comp.query(\"actual != pred\")"
   ],
   "metadata": {
    "collapsed": false,
    "ExecuteTime": {
     "start_time": "2023-04-27T23:45:06.394734Z",
     "end_time": "2023-04-27T23:51:15.503656Z"
    }
   }
  },
  {
   "cell_type": "markdown",
   "source": [],
   "metadata": {
    "collapsed": false
   }
  },
  {
   "cell_type": "code",
   "execution_count": 52,
   "outputs": [],
   "source": [
    "# evaluate the best model's accuracy on the test set\n",
    "y_pred_test = xgb_best_model.predict(X_test)\n",
    "test_accuracy = accuracy_score(y_test, y_pred_test)\n",
    "\n",
    "test_comp = pd.DataFrame({'actual': label_encoder.inverse_transform(y_test), 'pred': label_encoder.inverse_transform(y_pred_test)})\n",
    "\n",
    "print(f\"XGBoost: Test accuracy: {test_accuracy:.4f}\")\n",
    "\n",
    "# save the trained model to a file\n",
    "print(\"XGBoost: Saving model to file\")\n",
    "joblib.dump(knn_model, 'models/FoamCombo/xgb_model.joblib')\n",
    "\n",
    "test_comp.query(\"actual != pred\")"
   ],
   "metadata": {
    "collapsed": false,
    "ExecuteTime": {
     "start_time": "2023-04-27T23:45:06.515773Z",
     "end_time": "2023-04-27T23:51:15.599001Z"
    }
   }
  },
  {
   "cell_type": "markdown",
   "source": [],
   "metadata": {
    "collapsed": false
   }
  },
  {
   "cell_type": "code",
   "execution_count": 53,
   "outputs": [],
   "source": [
    "print(\"XGBoost: Evaluation\")\n",
    "print(classification_report(y_test,y_pred_test))"
   ],
   "metadata": {
    "collapsed": false,
    "ExecuteTime": {
     "start_time": "2023-04-27T23:45:06.634859Z",
     "end_time": "2023-04-27T23:51:15.655708Z"
    }
   }
  },
  {
   "cell_type": "markdown",
   "source": [],
   "metadata": {
    "collapsed": false
   }
  },
  {
   "cell_type": "code",
   "execution_count": 54,
   "outputs": [],
   "source": [
    "conf_matrix = confusion_matrix(y_test,y_pred_test)\n",
    "\n",
    "# normalize the confusion matrix\n",
    "conf_matrix_norm = conf_matrix.astype('float') / conf_matrix.sum(axis=1)[:, np.newaxis]\n",
    "\n",
    "# define the labels for the x and y axes, by decoding the one hot encoded values\n",
    "labels = label_encoder.inverse_transform(range(0,30))\n",
    "\n",
    "# create a heatmap of the normalized confusion matrix\n",
    "plt.figure(figsize=(8,6))\n",
    "sns.heatmap(conf_matrix_norm, cmap=\"RdPu\", annot=True, fmt='.1f', xticklabels=labels, yticklabels=labels)\n",
    "\n",
    "# set the title of the plot\n",
    "plt.title(\"XGBoost Confusion Matrix\")\n",
    "plt.ylabel('Actual')\n",
    "plt.xlabel('Predicted')\n",
    "\n",
    "plt.savefig(\"models/FoamCombo/images/xgb_conf_matrix.png\", dpi=300)\n",
    "\n",
    "# show the plot\n",
    "plt.show()"
   ],
   "metadata": {
    "collapsed": false,
    "ExecuteTime": {
     "start_time": "2023-04-27T23:45:06.762114Z",
     "end_time": "2023-04-27T23:51:24.396730Z"
    }
   }
  }
 ],
 "metadata": {
  "kernelspec": {
   "display_name": "Python 3",
   "language": "python",
   "name": "python3"
  },
  "language_info": {
   "codemirror_mode": {
    "name": "ipython",
    "version": 2
   },
   "file_extension": ".py",
   "mimetype": "text/x-python",
   "name": "python",
   "nbconvert_exporter": "python",
   "pygments_lexer": "ipython2",
   "version": "2.7.6"
  }
 },
 "nbformat": 4,
 "nbformat_minor": 0
}
